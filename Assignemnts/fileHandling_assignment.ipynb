{
 "cells": [
  {
   "cell_type": "code",
   "execution_count": null,
   "id": "19528deb",
   "metadata": {},
   "outputs": [],
   "source": [
    "# Write a program that appends a timestamped message to a log file. hint datetime module in python \n",
    "# timestamp = datetime.now().strftime('%Y-%m-%d %H:%M:%S')"
   ]
  },
  {
   "cell_type": "code",
   "execution_count": null,
   "id": "2a664d93",
   "metadata": {},
   "outputs": [],
   "source": [
    "# Write a Python program to read a text file and count the number of words in it."
   ]
  },
  {
   "cell_type": "code",
   "execution_count": null,
   "id": "c371043e",
   "metadata": {},
   "outputs": [],
   "source": [
    "# Write a function that reads a file and writes its lines in reverse order into a new file."
   ]
  },
  {
   "cell_type": "code",
   "execution_count": null,
   "id": "cadf8875",
   "metadata": {},
   "outputs": [],
   "source": [
    "# Write a script to create a new file with all blank lines removed from the original."
   ]
  },
  {
   "cell_type": "code",
   "execution_count": null,
   "id": "c4010dcc",
   "metadata": {},
   "outputs": [],
   "source": [
    "# Given a CSV with names and marks, add a new column \"Result\" with values \"Pass\"/\"Fail\"."
   ]
  },
  {
   "cell_type": "code",
   "execution_count": null,
   "id": "6cf3915b",
   "metadata": {},
   "outputs": [],
   "source": [
    "# Handle file-not-found errors gracefully and show a user-friendly message."
   ]
  },
  {
   "cell_type": "code",
   "execution_count": null,
   "id": "fbe04932",
   "metadata": {},
   "outputs": [],
   "source": [
    "# Write a function to return the last N lines of a file."
   ]
  },
  {
   "cell_type": "code",
   "execution_count": null,
   "id": "c25d375b",
   "metadata": {},
   "outputs": [],
   "source": [
    "# Replace a word in a file and save it as a new file."
   ]
  },
  {
   "cell_type": "code",
   "execution_count": null,
   "id": "5d3bd2d5",
   "metadata": {},
   "outputs": [],
   "source": [
    "# Copy an image (or any binary file) from source to destination."
   ]
  },
  {
   "cell_type": "code",
   "execution_count": null,
   "id": "302428d0",
   "metadata": {},
   "outputs": [],
   "source": [
    "# Read a JSON file containing employee data and print names of employees over 30."
   ]
  }
 ],
 "metadata": {
  "language_info": {
   "name": "python"
  }
 },
 "nbformat": 4,
 "nbformat_minor": 5
}

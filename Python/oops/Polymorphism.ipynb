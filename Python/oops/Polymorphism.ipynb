{
 "cells": [
  {
   "cell_type": "markdown",
   "id": "d5aa211e",
   "metadata": {},
   "source": [
    "## **Polymorphism**\n",
    "Polymorphism means the ability of a function, method, or operator to behave differently based on the object or data it is applied to."
   ]
  },
  {
   "cell_type": "markdown",
   "id": "0b27a78c",
   "metadata": {},
   "source": [
    "## Types of Polymorphism\n",
    "**1.**  **Compile-time Polymorphism (Static Polymorphism)**\n",
    "\n",
    "       Means the method to run is decided before the program runs (at compile time).\n",
    "\n",
    "      Achieved using:\n",
    "      - Method overloading (same method name, different parameters).\n",
    "      - Operator overloading (same operator, different meaning)."
   ]
  },
  {
   "cell_type": "code",
   "execution_count": 33,
   "id": "704a1b0a",
   "metadata": {},
   "outputs": [
    {
     "name": "stdout",
     "output_type": "stream",
     "text": [
      "Python developer\n",
      "None\n",
      "Mangement\n",
      "None\n"
     ]
    }
   ],
   "source": [
    "'''Method oevrloading In some programming languages, function overloading or method overloading is\n",
    " the ability to create multiple functions of the same name with different implementations.'''\n",
    "\n",
    "class Employee:\n",
    "    def work(self):\n",
    "        print(\"Employee work\")\n",
    "\n",
    "class deveploer(Employee):\n",
    "    def work(self):\n",
    "        print(\"Python developer\")\n",
    "\n",
    "class HR(Employee):\n",
    "    def work(self):\n",
    "        print(\"Mangement\")\n",
    "\n",
    "employees= [deveploer(),HR()]\n",
    "for i in employees:\n",
    "    print(i.work())"
   ]
  },
  {
   "cell_type": "code",
   "execution_count": 34,
   "id": "abbc5325",
   "metadata": {},
   "outputs": [
    {
     "name": "stdout",
     "output_type": "stream",
     "text": [
      " Drawing Square with 100 dimesnion\n",
      " Drawing Triangle with 25.0 dimesnion\n"
     ]
    }
   ],
   "source": [
    "class shape:\n",
    "    def __init__(self,w=0,h=0,b=0):\n",
    "        self.w=w\n",
    "        self.h=h\n",
    "        self.b=b\n",
    "\n",
    "    def draw(self):\n",
    "        print(\"Drawing Shapes\")\n",
    "\n",
    "class Square(shape):\n",
    "    def draw(self):\n",
    "        print(f\" Drawing Square with {self.w*self.h} dimesnion\")\n",
    "\n",
    "class Triangle(shape):\n",
    "    def draw(self):\n",
    "        print(f\" Drawing Triangle with {0.5*(self.w*self.b)} dimesnion\")\n",
    "\n",
    "shapes= [Square(w=10,h=10), Triangle(w=10,b=5)]\n",
    "for i in shapes:\n",
    "    i.draw()\n"
   ]
  },
  {
   "cell_type": "code",
   "execution_count": 35,
   "id": "e3290170",
   "metadata": {},
   "outputs": [
    {
     "name": "stdout",
     "output_type": "stream",
     "text": [
      "15\n",
      "-5\n",
      "-9\n"
     ]
    }
   ],
   "source": [
    "'''Operator Overloading(dunder methods)'''\n",
    "class calculator:\n",
    "    def add(self, a=0, b=0,c=0):\n",
    "        return a+b+c\n",
    "\n",
    "c1= calculator()\n",
    "print(c1.add(5,10))\n",
    "print(c1.add(5,10,-20))\n",
    "\n",
    "\n",
    "c2= calculator()\n",
    "print(c2.add(-10,0,1))"
   ]
  },
  {
   "cell_type": "markdown",
   "id": "80e6fb7c",
   "metadata": {},
   "source": [
    "**2**.  **Run-time polymorphism (a.k.a. Late binding / Dynamic polymorphism)**\n",
    "\n",
    "      Decided at runtime (when program is running)\n",
    "\n",
    "      Achieved using:\n",
    "      - Method overriding (same method name, different parameters).\n"
   ]
  },
  {
   "cell_type": "code",
   "execution_count": 36,
   "id": "7d81042a",
   "metadata": {},
   "outputs": [
    {
     "name": "stdout",
     "output_type": "stream",
     "text": [
      "Woof!! Woof!!\n",
      "Meow!! Meow!!\n"
     ]
    }
   ],
   "source": [
    "# Duck Typing (Python special runtime polymorphism)(without inheritance, just behavior-based)\n",
    "\n",
    "class Animal:\n",
    "    def sound(self):\n",
    "        print(\"Some generic sound\")\n",
    "\n",
    "class Dog():\n",
    "    def sound(self):\n",
    "        print(\"Woof!! Woof!!\")\n",
    "\n",
    "class Cat():\n",
    "    def sound(self):\n",
    "        print(\"Meow!! Meow!!\")  \n",
    "\n",
    "animals= [Dog(),Cat()]\n",
    "for a in animals:\n",
    "    a.sound()"
   ]
  },
  {
   "cell_type": "code",
   "execution_count": 37,
   "id": "34668cf4",
   "metadata": {},
   "outputs": [
    {
     "name": "stdout",
     "output_type": "stream",
     "text": [
      "Duck is swimming\n"
     ]
    }
   ],
   "source": [
    "class Duck:\n",
    "    def swim(self):\n",
    "        print(\"Duck is swimming\")\n",
    "\n",
    "class Person:\n",
    "    def swim(self):\n",
    "        print(\"person is swimming\")\n",
    "\n",
    "\n",
    "def check_swimming(obj):\n",
    "    if obj.swim():\n",
    "        return True\n",
    "\n",
    "check_swimming(Duck())\n"
   ]
  },
  {
   "cell_type": "markdown",
   "id": "05359807",
   "metadata": {},
   "source": [
    "## Abstraction\n",
    "- Abstraction means showing only what’s necessary and hiding the background details.\n",
    "\n",
    "    In programming:\n",
    "    - We expose only essential methods to the user.\n",
    "    - We hide complex internal logic."
   ]
  },
  {
   "cell_type": "code",
   "execution_count": 48,
   "id": "b8c56444",
   "metadata": {},
   "outputs": [
    {
     "name": "stdout",
     "output_type": "stream",
     "text": [
      "Car starts with key\n"
     ]
    }
   ],
   "source": [
    "from abc import ABC, abstractmethod\n",
    "\n",
    "# abstract class\n",
    "class Vehicle(ABC):\n",
    "    @abstractmethod\n",
    "    def start(self):\n",
    "        print(\"insert the key properly\")\n",
    "        print(\"key is connected to igniation\")\n",
    "        print(\"make noise\")\n",
    "\n",
    "\n",
    "    def stop(self):\n",
    "        pass\n",
    "\n",
    "\n",
    "# class 1\n",
    "\n",
    "class Car(Vehicle):\n",
    "    def start(self):\n",
    "        print(\"Car starts with key\")\n",
    "\n",
    "    def stop(self):\n",
    "        print(\"Cars stops with a brake\")\n",
    "\n",
    "c1= Car()\n",
    "c1.start()"
   ]
  },
  {
   "cell_type": "code",
   "execution_count": null,
   "id": "3e091442",
   "metadata": {},
   "outputs": [],
   "source": [
    "\n",
    "\n",
    "# Payment System\n",
    "\n",
    "# Design an abstract class Payment with abstract methods pay() and refund().\n",
    "# Implement subclasses CreditCardPayment and PayPalPayment with their own logic.\n",
    "data= {\n",
    "      {\"name\": \"yamuna\", \"product\": \"cloth\" , \"paid_am0unt\":4,\"refund_amount\":0},\n",
    "      {\"name\": \"Johan\", \"product\": \"sneaker\" , \"paid_am0unt\":100,\"refund_amount\":0}\n",
    "    }\n",
    "    \n",
    "class PaymentSystem:\n",
    "    # online and offline \n",
    "\n",
    "    @abstractmethod\n",
    "    def pay():\n",
    "        # write the code how the amount paid by customer using online or offline - online (Creditcard , PaypalPayment),  offline(CashPayment)\n",
    "        pass\n",
    "\n",
    "    @abstractmethod\n",
    "    def refund():\n",
    "        # write the code how the amount refund to the customer using online or offline - online (Creditcard , PaypalPayment),  offline(CashPayment)\n",
    "        pass\n",
    "\n",
    "class CreditCardPayment(PaymentSystem):\n",
    "    pass\n",
    "class PayPalPayment(PaymentSystem):\n",
    "    pass\n"
   ]
  },
  {
   "cell_type": "code",
   "execution_count": null,
   "id": "e4105b9c",
   "metadata": {},
   "outputs": [],
   "source": [
    "from abc import ABC, abstractmethod\n",
    "\n",
    "# ---------------- Abstract Base Class ----------------\n",
    "class PaymentSystem(ABC):\n",
    "    @abstractmethod\n",
    "    def pay(self, customer, amount):\n",
    "        pass\n",
    "\n",
    "    @abstractmethod\n",
    "    def refund(self, customer, amount):\n",
    "        pass\n",
    "\n",
    "\n",
    "# ---------------- Concrete Subclasses ----------------\n",
    "class CreditCardPayment(PaymentSystem):\n",
    "    def pay(self, customer, amount):\n",
    "        print(f\"{customer} paid ${amount} using Credit Card.\")\n",
    "\n",
    "    def refund(self, customer, amount):\n",
    "        print(f\"{customer} refunded ${amount} to Credit Card.\")\n",
    "\n",
    "\n",
    "class PayPalPayment(PaymentSystem):\n",
    "    def pay(self, customer, amount):\n",
    "        print(f\"{customer} paid ${amount} using PayPal.\")\n",
    "\n",
    "    def refund(self, customer, amount):\n",
    "        print(f\"{customer} refunded ${amount} via PayPal.\")\n",
    "\n",
    "\n",
    "class CashPayment(PaymentSystem):\n",
    "    def pay(self, customer, amount):\n",
    "        print(f\"{customer} paid ${amount} in cash.\")\n",
    "\n",
    "    def refund(self, customer, amount):\n",
    "        print(f\"{customer} refunded ${amount} in cash.\")\n",
    "\n",
    "\n",
    "# ---------------- Testing with Sample Data ----------------\n",
    "data = [\n",
    "    {\"name\": \"Yamuna\", \"product\": \"Cloth\", \"paid_amount\": 40, \"refund_amount\": 0},\n",
    "    {\"name\": \"Johan\", \"product\": \"Sneaker\", \"paid_amount\": 100, \"refund_amount\": 20}\n",
    "]\n",
    "\n",
    "# Choose payment methods for testing\n",
    "payment_methods = [CreditCardPayment(), PayPalPayment(), CashPayment()]\n",
    "\n",
    "for idx, record in enumerate(data):\n",
    "    customer = record[\"name\"]\n",
    "    product = record[\"product\"]\n",
    "    paid = record[\"paid_amount\"]\n",
    "    refund_amt = record[\"refund_amount\"]\n",
    "\n",
    "    print(f\"\\nProcessing order for {customer} ({product})\")\n",
    "\n",
    "    # Pick a payment method (just cycling through for demo)\n",
    "    method = payment_methods[idx % len(payment_methods)]\n",
    "\n",
    "    # Payment\n",
    "    method.pay(customer, paid)\n",
    "\n",
    "    # Refund (if any)\n",
    "    if refund_amt > 0:\n",
    "        method.refund(customer, refund_amt)\n",
    "    else:\n",
    "        print(f\"No refund required for {customer}.\")\n"
   ]
  }
 ],
 "metadata": {
  "kernelspec": {
   "display_name": "Python 3",
   "language": "python",
   "name": "python3"
  },
  "language_info": {
   "codemirror_mode": {
    "name": "ipython",
    "version": 3
   },
   "file_extension": ".py",
   "mimetype": "text/x-python",
   "name": "python",
   "nbconvert_exporter": "python",
   "pygments_lexer": "ipython3",
   "version": "3.9.8"
  }
 },
 "nbformat": 4,
 "nbformat_minor": 5
}

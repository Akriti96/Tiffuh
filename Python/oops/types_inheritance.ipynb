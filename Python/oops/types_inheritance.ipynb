{
 "cells": [
  {
   "cell_type": "markdown",
   "id": "9c190c5f",
   "metadata": {},
   "source": [
    "1️⃣ Single Inheritance\n",
    "\n",
    "👉 One child inherits from one parent.\n",
    "Analogy: A child inherits from one mother."
   ]
  },
  {
   "cell_type": "code",
   "execution_count": null,
   "id": "2307bd40",
   "metadata": {},
   "outputs": [],
   "source": [
    "class Parent:\n",
    "    def show_parent(self):\n",
    "        print(\"Im a the parent\")\n",
    "\n",
    "class child(Parent):\n",
    "    def show_child(self):\n",
    "        print(\"Im a child\")\n",
    "\n",
    "child1= child()"
   ]
  },
  {
   "cell_type": "markdown",
   "id": "67d2c2a3",
   "metadata": {},
   "source": [
    "2️⃣ Multiple Inheritance\n",
    "\n",
    "👉 One child inherits from more than one parent.\n",
    "Analogy: A child inherits traits from both mother and father."
   ]
  },
  {
   "cell_type": "code",
   "execution_count": 21,
   "id": "e9e10894",
   "metadata": {},
   "outputs": [
    {
     "data": {
      "text/plain": [
       "['i can code', 'i can drive']"
      ]
     },
     "execution_count": 21,
     "metadata": {},
     "output_type": "execute_result"
    }
   ],
   "source": [
    "class Father:\n",
    "    def skill1(self):\n",
    "      return \"i can drive\"\n",
    "\n",
    "class Mother:\n",
    "    def skill2(self):\n",
    "        return \"i can cook\"\n",
    "\n",
    "class Child(Father, Mother):\n",
    "    def skill3(self):\n",
    "        return \"i can code\"\n",
    "\n",
    "\n",
    "skills=[]\n",
    "yamuna = Child()\n",
    "skills.append(yamuna.skill3())\n",
    "skills.append(yamuna.skill1())\n",
    "\n",
    "skills\n"
   ]
  },
  {
   "cell_type": "markdown",
   "id": "b018c2d4",
   "metadata": {},
   "source": [
    "3️⃣ Multilevel Inheritance\n",
    "\n",
    "👉 A child inherits from a parent, and then another child inherits from that child.\n",
    "Analogy: Grandfather → Father → Son."
   ]
  },
  {
   "cell_type": "code",
   "execution_count": null,
   "id": "6249f9b2",
   "metadata": {},
   "outputs": [
    {
     "data": {
      "text/plain": [
       "'Get my asset I have money and Land'"
      ]
     },
     "execution_count": 35,
     "metadata": {},
     "output_type": "execute_result"
    }
   ],
   "source": [
    "class GrandFather:\n",
    "    def __init__(self):\n",
    "        self._a= \"I have money and Land\"\n",
    "\n",
    "    def __assets1(self):\n",
    "        return f\"I have {self._a}\"\n",
    "    \n",
    "    def get_asset(self):\n",
    "        return f\"Get my asset {self._a}\"\n",
    "\n",
    "class Father(GrandFather):\n",
    "    def assets2(self):\n",
    "        print(\"I have resturant\")\n",
    "\n",
    "class Child(Father):\n",
    "    def assets3(self):\n",
    "        print(\"I have Bussiness\")\n",
    "\n",
    "\n",
    "\n",
    "Yamuna= Child()\n",
    "Yamuna.get_asset()"
   ]
  },
  {
   "cell_type": "markdown",
   "id": "8f13ecc1",
   "metadata": {},
   "source": [
    "4️⃣ Hierarchical Inheritance\n",
    "\n",
    "👉 Multiple children inherit from the same parent.\n",
    "Analogy: One parent, multiple kids."
   ]
  },
  {
   "cell_type": "code",
   "execution_count": 5,
   "id": "5012086f",
   "metadata": {},
   "outputs": [
    {
     "name": "stdout",
     "output_type": "stream",
     "text": [
      "Im a the parent\n",
      "Im a the parent\n",
      "None None\n"
     ]
    }
   ],
   "source": [
    "class Parent:\n",
    "    def show_parent(self):\n",
    "        print(\"Im a the parent\")\n",
    "\n",
    "class child(Parent):\n",
    "    def show_child(self):\n",
    "        print(\"Im a child\")\n",
    "\n",
    "child1= child()\n",
    "child2=child()\n",
    "\n",
    "print(child1.show_parent(),child2.show_parent())"
   ]
  },
  {
   "cell_type": "markdown",
   "id": "3924df88",
   "metadata": {},
   "source": [
    "5️⃣ Hybrid Inheritance\n",
    "\n",
    "👉 Combination of any of the above types.\n",
    "Example: A mix of Multiple + Multilevel."
   ]
  },
  {
   "cell_type": "code",
   "execution_count": null,
   "id": "2feed869",
   "metadata": {},
   "outputs": [
    {
     "name": "stdout",
     "output_type": "stream",
     "text": [
      "This is A\n"
     ]
    }
   ],
   "source": [
    "class A:\n",
    "    def showA(self):\n",
    "        print(\"This is A\")\n",
    "\n",
    "class B(A):\n",
    "    def showB(self):\n",
    "        print(\"This is B\")\n",
    "\n",
    "class C(A):\n",
    "    def showC(self):\n",
    "        print(\"This is C\")\n",
    "\n",
    "# multiple inheritance---> Multilevel\n",
    "class D(B,C):\n",
    "    def showD(self):\n",
    "        print(\"This is D\")\n",
    "\n",
    "d= D()\n",
    "d.showA()\n"
   ]
  },
  {
   "cell_type": "markdown",
   "id": "bc58ea81",
   "metadata": {},
   "source": [
    "Project: Banking & Payment Gateway System\n",
    "Features we’ll cover\n",
    "\n",
    "Encapsulation → Customer details (account balance, card info) should be private.\n",
    "\n",
    "Inheritance Types →\n",
    "\n",
    "Single Inheritance → BankAccount → SavingsAccount.\n",
    "\n",
    "Multilevel Inheritance → PaymentMethod → OnlinePayment → UPI/NetBanking.\n",
    "\n",
    "Multiple Inheritance → CreditCardPayment inherits from both BankAccount and PaymentMethod.\n",
    "\n",
    "Hierarchical Inheritance → Multiple payment options (UPI, NetBanking, Wallet) from OnlinePayment.\n",
    "\n",
    "Hybrid Inheritance → Combination of all above → demonstrate MRO."
   ]
  },
  {
   "cell_type": "code",
   "execution_count": null,
   "id": "236a9ddd",
   "metadata": {},
   "outputs": [
    {
     "name": "stdout",
     "output_type": "stream",
     "text": [
      " Deposited $4.0. New Balance  $204.0\n",
      "Interest Added 4.0%\n"
     ]
    }
   ],
   "source": [
    "class BankAccount:\n",
    "    def __init__(self,name,acc_no, address,balance):\n",
    "        self.__name= name\n",
    "        self.__acc_no= acc_no\n",
    "        self._address= address\n",
    "        self.__balance=balance\n",
    "\n",
    "    # getter methods\n",
    "    def get_name(self):\n",
    "        return self.__name\n",
    "    \n",
    "    def get_acc_number(self):\n",
    "        return self.__acc_no\n",
    "\n",
    "    def get_balance(self):\n",
    "        return self.__balance\n",
    "    \n",
    "    def get_address(self):\n",
    "        return self.__address\n",
    "    \n",
    "\n",
    "    def deposit(self,amount):\n",
    "        self.__balance+= amount\n",
    "        print(f\" Deposited ${amount}. New Balance  ${self.__balance}\")\n",
    "\n",
    "    def withdraw(self, amount):\n",
    "        if amount <= self.__balance:\n",
    "            self.__balance+= amount\n",
    "            print(f\" Deposited ${amount}. Remaining Balance  ${self.__balance}\")\n",
    "        else:\n",
    "            print(\"Insuffficient Funds!!\")\n",
    "\n",
    "# single inheritance \n",
    "class  SavingsAccount(BankAccount):\n",
    "    def __init__(self, name, acc_no, address, balance,interest):\n",
    "        super().__init__(name, acc_no, address, balance)\n",
    "        self.interest= interest\n",
    "\n",
    "\n",
    "    def add_intereset(self):\n",
    "        new_interest= self.get_balance()* (self.interest/100)\n",
    "        self.deposit(new_interest)\n",
    "        print(f\"Interest Added {new_interest}%\")\n",
    "\n",
    "# Multilevel \n",
    "# class PaymentMethod\n",
    "# OnlinePayment (Paymentmethod)\n",
    "# UPI(OnlinePayment )\n",
    "# NetBanking (OnlinePayment)\n",
    "\n",
    "c1=  SavingsAccount(\"yamuna\",\"123456\",\"xyz\",200,2)\n",
    "c1.add_intereset()\n"
   ]
  }
 ],
 "metadata": {
  "kernelspec": {
   "display_name": "Python 3",
   "language": "python",
   "name": "python3"
  },
  "language_info": {
   "codemirror_mode": {
    "name": "ipython",
    "version": 3
   },
   "file_extension": ".py",
   "mimetype": "text/x-python",
   "name": "python",
   "nbconvert_exporter": "python",
   "pygments_lexer": "ipython3",
   "version": "3.9.8"
  }
 },
 "nbformat": 4,
 "nbformat_minor": 5
}

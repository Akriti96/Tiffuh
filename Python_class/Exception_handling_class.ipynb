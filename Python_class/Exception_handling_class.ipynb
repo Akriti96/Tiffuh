{
  "cells": [
    {
      "cell_type": "markdown",
      "metadata": {
        "id": "48AboO9nAqt3"
      },
      "source": [
        "- Introduction To Exception Handling\n",
        "- Exception Handling Keywords\n",
        "- Exception Handling Syntax\n",
        "- Handling Multiple Exceptions\n",
        "- Handling All Exceptions\n",
        "- Using Exception Object\n",
        "- Getting Details Of Exception\n",
        "- Raising An Exception\n",
        "- Using finally Block\n",
        "- Creating User Defined Exceptions\n"
      ]
    },
    {
      "cell_type": "markdown",
      "metadata": {
        "id": "QcLXV8gCcRGN"
      },
      "source": [
        "## 14.1 Errors and Exception Handling\n",
        "\n",
        "In this section, we will learn about Errors and Exception Handling in Python. You've might have definitely encountered errors by this point in the course. For example:"
      ]
    },
    {
      "cell_type": "code",
      "execution_count": null,
      "metadata": {
        "id": "QLimqLoDcRGQ",
        "outputId": "05e531cb-9811-45ef-eae3-dcb4165786e8"
      },
      "outputs": [
        {
          "name": "stdout",
          "output_type": "stream",
          "text": [
            "Hello\n"
          ]
        }
      ],
      "source": [
        "print('Hello')"
      ]
    },
    {
      "cell_type": "code",
      "execution_count": null,
      "metadata": {
        "id": "fB6JX2xOAqt7",
        "outputId": "e466fed7-e36f-4a47-f6f7-b09c81906e81"
      },
      "outputs": [
        {
          "ename": "SyntaxError",
          "evalue": "EOL while scanning string literal (Temp/ipykernel_35952/1679058590.py, line 1)",
          "output_type": "error",
          "traceback": [
            "\u001b[1;36m  File \u001b[1;32m\"C:\\Users\\sunny\\AppData\\Local\\Temp/ipykernel_35952/1679058590.py\"\u001b[1;36m, line \u001b[1;32m1\u001b[0m\n\u001b[1;33m    print('Hello)\u001b[0m\n\u001b[1;37m                 ^\u001b[0m\n\u001b[1;31mSyntaxError\u001b[0m\u001b[1;31m:\u001b[0m EOL while scanning string literal\n"
          ]
        }
      ],
      "source": [
        "print('Hello)"
      ]
    },
    {
      "cell_type": "markdown",
      "metadata": {
        "id": "p2JdMHYncRGW"
      },
      "source": [
        "Note how we get a SyntaxError, with the further description that it was an End of Line Error (EOL) while scanning the string literal. This is specific enough for us to see that we forgot a single quote at the end of the line. Understanding of these various error types will help you debug your code much faster.\n",
        "\n",
        "This type of error and description is known as an Exception. Even if a statement or expression is syntactically correct, it may cause an error when an attempt is made to execute it. Errors detected during execution are called exceptions and are not unconditionally fatal."
      ]
    },
    {
      "cell_type": "markdown",
      "metadata": {
        "id": "1Bbmyp4xcRGX"
      },
      "source": [
        "| Exception | description   |\n",
        "|------|------|\n",
        "|   Exception  | Base class of exception. Allother exception derived from this class.|\n",
        "|   ArithmeticError  | Base class for those exceptions that are raised for arithmetic or numeric errors.|\n",
        "|   ZeroDivisionError  | Raised when division or modulo operation is zero|\n",
        "|   ModuleNotFoundError  | Raised by import when imported module could not be located|\n",
        "|   KeyError  | Raised when a mapping (dictionary) key is not found in keys of a dictionary.|\n",
        "|   MemoryError  | Raised when an operation runs out of memory|"
      ]
    },
    {
      "cell_type": "markdown",
      "metadata": {
        "id": "aaYb6kJgcRGX"
      },
      "source": [
        "You can check out the full list of built-in exceptions [here](https://docs.python.org/3.8/library/exceptions.html). Now, let's learn how to handle errors and exceptions in our own code."
      ]
    },
    {
      "cell_type": "markdown",
      "metadata": {
        "id": "0qEC67uicRGY"
      },
      "source": [
        "In python, There are two popular saying for code styles:-\n",
        "\n",
        "1) LBYL\n",
        "\n",
        "2) EAFP"
      ]
    },
    {
      "cell_type": "markdown",
      "metadata": {
        "id": "cyQ6o45vcRGZ"
      },
      "source": [
        "### LBYL\n",
        "\n",
        "Look before you leap.\n",
        "This coding style explicitly tests for pre-conditions before making calls or lookups. This style contrasts with the EAFP approach and is characterized by the presence of many if statements.\n",
        "\n",
        "In a multi-threaded environment, the LBYL approach can risk introducing a race condition between “the looking” and “the leaping”. For example, the code, if key in mapping: return mapping[key] can fail if another thread removes key from mapping after the test, but before the lookup. This issue can be solved with locks or by using the EAFP approach.\n",
        "\n",
        "For this, you can refer in python documentation:-\n",
        ">** https://docs.python.org/3/glossary.html **\n",
        "\n",
        "In a simple language, we first check what we are going to do. For example, if we want to check if a file is available before trying to write:\n",
        "\n",
        "```python\n",
        " if filename:\n",
        "     with open()..\n",
        "     ....\n",
        "```"
      ]
    },
    {
      "cell_type": "markdown",
      "metadata": {
        "id": "xmMvQGtRcRGa"
      },
      "source": [
        "### EAFP\n",
        "\n",
        "Easier to ask for forgiveness than permission.\n",
        "\n",
        "This common Python coding style assumes the existence of valid keys or attributes and catches exceptions if the assumption proves false. This clean and fast style is characterized by the presence of many try and except statements. The technique contrasts with the LBYL style common to many other languages such as C.\n",
        "\n",
        "In a simple language,EAFP is like we first write our code so that it performs and executes first, and then we will take care of the consequences if it doesn't work. That means we try running some code, expecting it to work, but if it failes then will handle it in exception in except block.\n",
        "\n",
        "```python\n",
        "try:\n",
        "     with open(filename,'r').. # First executes\n",
        "     ....\n",
        " except:\n",
        "     # handling exception\n",
        "```"
      ]
    },
    {
      "cell_type": "markdown",
      "metadata": {
        "id": "Qxz9sUwncRGb"
      },
      "source": [
        "## 14.2 try and except\n",
        "\n",
        "The basic terminology and syntax used to handle errors in Python is the **try** and **except** statements. The code which can cause an exception to occur is put in the *try* block and the handling of the exception are the implemented in the *except* block of code. The syntax form is:\n",
        "\n",
        "    try:\n",
        "       You do your operations here...\n",
        "       ...\n",
        "    except ExceptionI:\n",
        "       If there is ExceptionI, then execute this block.\n",
        "    except ExceptionII:\n",
        "       If there is ExceptionII, then execute this block.\n",
        "       ...\n",
        "    else:\n",
        "       If there is no exception then execute this block.\n",
        "\n",
        "\n",
        "Using just except, we can check for any exception: To understand better let's check out a sample code that opens and writes a file:"
      ]
    },
    {
      "cell_type": "code",
      "execution_count": null,
      "metadata": {
        "id": "BM60rvZFcRGc",
        "outputId": "a37d383a-d948-4260-d74b-23fc02b3c0f2"
      },
      "outputs": [
        {
          "name": "stdout",
          "output_type": "stream",
          "text": [
            "Content written successfully\n"
          ]
        }
      ],
      "source": [
        "try:\n",
        "    f = open('demo_file','w')\n",
        "    f.write('Test write this')\n",
        "except IOError:\n",
        "    # This will only check for an IOError exception and then execute this print statement\n",
        "   print(\"Error: Could not find file or read data\")\n",
        "else: # this else block will execute if try block does not raise an exception\n",
        "   print(\"Content written successfully\")\n",
        "   f.close()"
      ]
    },
    {
      "cell_type": "markdown",
      "metadata": {
        "id": "J0LcyMzncRGg"
      },
      "source": [
        "Now, let's see what happens when we don't have write permission? (opening only with 'r'):"
      ]
    },
    {
      "cell_type": "code",
      "execution_count": null,
      "metadata": {
        "id": "-P1Q5trjcRGh",
        "outputId": "80542a83-fed5-42d4-e5a2-df543a5cf392"
      },
      "outputs": [
        {
          "ename": "UnsupportedOperation",
          "evalue": "not writable",
          "output_type": "error",
          "traceback": [
            "\u001b[1;31m---------------------------------------------------------------------------\u001b[0m",
            "\u001b[1;31mUnsupportedOperation\u001b[0m                      Traceback (most recent call last)",
            "\u001b[1;32m<ipython-input-2-7498bff3140a>\u001b[0m in \u001b[0;36m<module>\u001b[1;34m\u001b[0m\n\u001b[0;32m      1\u001b[0m \u001b[0mf\u001b[0m \u001b[1;33m=\u001b[0m \u001b[0mopen\u001b[0m\u001b[1;33m(\u001b[0m\u001b[1;34m'testfile'\u001b[0m\u001b[1;33m,\u001b[0m\u001b[1;34m'r'\u001b[0m\u001b[1;33m)\u001b[0m\u001b[1;33m\u001b[0m\u001b[1;33m\u001b[0m\u001b[0m\n\u001b[1;32m----> 2\u001b[1;33m \u001b[0mf\u001b[0m\u001b[1;33m.\u001b[0m\u001b[0mwrite\u001b[0m\u001b[1;33m(\u001b[0m\u001b[1;34m'Test write this'\u001b[0m\u001b[1;33m)\u001b[0m\u001b[1;33m\u001b[0m\u001b[1;33m\u001b[0m\u001b[0m\n\u001b[0m\u001b[0;32m      3\u001b[0m \u001b[0mprint\u001b[0m\u001b[1;33m(\u001b[0m\u001b[1;34m\"fsfsfsfsf\"\u001b[0m\u001b[1;33m)\u001b[0m\u001b[1;33m\u001b[0m\u001b[1;33m\u001b[0m\u001b[0m\n",
            "\u001b[1;31mUnsupportedOperation\u001b[0m: not writable"
          ]
        }
      ],
      "source": [
        "f = open('demo_file','r')\n",
        "f.write('Test write this')\n",
        "print(\"fsfsfsfsf\")"
      ]
    },
    {
      "cell_type": "code",
      "execution_count": null,
      "metadata": {
        "id": "Ca68cILRcRGm",
        "outputId": "2ac72377-fd95-401e-a4ae-2d678503c555"
      },
      "outputs": [
        {
          "name": "stdout",
          "output_type": "stream",
          "text": [
            "Error: Could not find file or read data\n"
          ]
        }
      ],
      "source": [
        "try:\n",
        "    f = open('demo_file','r')\n",
        "    f.write('Test write this')\n",
        "except IOError:\n",
        "    # This will only check for an IOError exception and then execute this print statement\n",
        "   print(\"Error: Could not find file or read data\")\n",
        "else:\n",
        "   print(\"Content written successfully\")\n",
        "   f.close()"
      ]
    },
    {
      "cell_type": "markdown",
      "metadata": {
        "id": "J78YxWLecRGq"
      },
      "source": [
        "Notice, how we only printed a statement! The code still ran and we were able to continue doing actions and running code blocks. This is extremely useful when you have to account for possible input errors in your code. You can be prepared for the error and keep running code, instead of your code just breaking as we saw above.\n",
        "\n",
        "We could have also just said except: if we weren't sure what exception would occur. For example:"
      ]
    },
    {
      "cell_type": "code",
      "execution_count": null,
      "metadata": {
        "id": "nC4hsHwfcRGr",
        "outputId": "025350e4-2df0-4fea-c2ab-796cf8421ae0"
      },
      "outputs": [
        {
          "name": "stdout",
          "output_type": "stream",
          "text": [
            "Error: Could not find file or read data\n"
          ]
        }
      ],
      "source": [
        "try:\n",
        "    f = open('testfile','r')\n",
        "    f.write('Test write this')\n",
        "except:\n",
        "    # This will check for any exception and then execute this print statement\n",
        "   print(\"Error: Could not find file or read data\")\n",
        "else:\n",
        "   print(\"Content written successfully\")\n",
        "   f.close()"
      ]
    },
    {
      "cell_type": "markdown",
      "metadata": {
        "id": "AP6bIWfVcRGx"
      },
      "source": [
        "Now, we don't actually need to memorize the list of exception types! Now what if we keep wanting to run code after the exception occurred? This is where **finally** comes in.\n",
        "### finally\n",
        "The finally: Block of code will always be run regardless if there was an exception in the try code block. The syntax is:\n",
        "\n",
        "    try:\n",
        "       Code block here\n",
        "       ...\n",
        "       Due to any exception, this code may be skipped!\n",
        "    finally:\n",
        "       This code block would always be executed.\n",
        "\n",
        "For example:"
      ]
    },
    {
      "cell_type": "code",
      "execution_count": null,
      "metadata": {
        "id": "M2QkPS-BcRGy",
        "outputId": "160fa02e-cf3c-419f-8230-c36919c7dff2"
      },
      "outputs": [
        {
          "name": "stdout",
          "output_type": "stream",
          "text": [
            "Always execute finally code blocks\n"
          ]
        }
      ],
      "source": [
        "try:\n",
        "   f = open(\"testfile\", \"w\")\n",
        "   f.write(\"Test write statement\")\n",
        "finally:\n",
        "   print(\"Always execute finally code blocks\")"
      ]
    },
    {
      "cell_type": "markdown",
      "metadata": {
        "id": "i7NBKb3BcRG3"
      },
      "source": [
        "We can use this in conjunction with except. Let's see a new example that will take into account a user putting in the wrong input:"
      ]
    },
    {
      "cell_type": "code",
      "execution_count": null,
      "metadata": {
        "id": "tN0103-QcRG4"
      },
      "outputs": [],
      "source": [
        "def askint():\n",
        "        try:\n",
        "            val = int(input(\"Please enter an integer: \"))\n",
        "        except:\n",
        "            print(\"Looks like you did not enter an integer!\")\n",
        "\n",
        "        finally:\n",
        "            print(\"Finally, I executed!\")\n",
        "        print(val)"
      ]
    },
    {
      "cell_type": "code",
      "execution_count": null,
      "metadata": {
        "id": "uLP2ii48cRG8",
        "outputId": "0b9da84c-0686-412d-f439-65d54f50d1d4"
      },
      "outputs": [
        {
          "name": "stdout",
          "output_type": "stream",
          "text": [
            "Please enter an integer: 66\n",
            "Finally, I executed!\n",
            "66\n"
          ]
        }
      ],
      "source": [
        "askint()"
      ]
    },
    {
      "cell_type": "code",
      "execution_count": null,
      "metadata": {
        "id": "llkZJAhacRHA",
        "outputId": "ea75ab4d-9dad-4d36-93c4-2910513c7907"
      },
      "outputs": [
        {
          "name": "stdout",
          "output_type": "stream",
          "text": [
            "Please enter an integer: six\n",
            "Looks like you did not enter an integer!\n",
            "Finally, I executed!\n"
          ]
        },
        {
          "ename": "UnboundLocalError",
          "evalue": "local variable 'val' referenced before assignment",
          "output_type": "error",
          "traceback": [
            "\u001b[1;31m---------------------------------------------------------------------------\u001b[0m",
            "\u001b[1;31mUnboundLocalError\u001b[0m                         Traceback (most recent call last)",
            "\u001b[1;32m<ipython-input-8-cc291aa76c10>\u001b[0m in \u001b[0;36m<module>\u001b[1;34m\u001b[0m\n\u001b[1;32m----> 1\u001b[1;33m \u001b[0maskint\u001b[0m\u001b[1;33m(\u001b[0m\u001b[1;33m)\u001b[0m\u001b[1;33m\u001b[0m\u001b[1;33m\u001b[0m\u001b[0m\n\u001b[0m",
            "\u001b[1;32m<ipython-input-6-1b367de9a831>\u001b[0m in \u001b[0;36maskint\u001b[1;34m()\u001b[0m\n\u001b[0;32m      7\u001b[0m         \u001b[1;32mfinally\u001b[0m\u001b[1;33m:\u001b[0m\u001b[1;33m\u001b[0m\u001b[1;33m\u001b[0m\u001b[0m\n\u001b[0;32m      8\u001b[0m             \u001b[0mprint\u001b[0m\u001b[1;33m(\u001b[0m\u001b[1;34m\"Finally, I executed!\"\u001b[0m\u001b[1;33m)\u001b[0m\u001b[1;33m\u001b[0m\u001b[1;33m\u001b[0m\u001b[0m\n\u001b[1;32m----> 9\u001b[1;33m         \u001b[0mprint\u001b[0m\u001b[1;33m(\u001b[0m\u001b[0mval\u001b[0m\u001b[1;33m)\u001b[0m\u001b[1;33m\u001b[0m\u001b[1;33m\u001b[0m\u001b[0m\n\u001b[0m",
            "\u001b[1;31mUnboundLocalError\u001b[0m: local variable 'val' referenced before assignment"
          ]
        }
      ],
      "source": [
        "askint()"
      ]
    },
    {
      "cell_type": "markdown",
      "metadata": {
        "id": "QjNZsu4IcRHF"
      },
      "source": [
        "Check how we got an error when trying to print val (because it was properly assigned). Let's find the right solution by asking the user and checking to make sure the input type is an integer:"
      ]
    },
    {
      "cell_type": "code",
      "execution_count": null,
      "metadata": {
        "id": "YIaBFPGNcRHH"
      },
      "outputs": [],
      "source": [
        "def askint():\n",
        "        try:\n",
        "            val = int(input(\"Please enter an integer: \"))\n",
        "        except:\n",
        "            print(\"Looks like you did not enter an integer!\")\n",
        "            try:\n",
        "                val = int(input(\"Try again-Please enter an integer: \"))\n",
        "            except:\n",
        "                print(\"handle it \")\n",
        "        finally:\n",
        "            print(\"Finally, I executed!\")"
      ]
    },
    {
      "cell_type": "code",
      "execution_count": null,
      "metadata": {
        "id": "7UrPQ_i4cRHN",
        "outputId": "ebd09edd-ffab-4681-8b81-c529c1aaa33c"
      },
      "outputs": [
        {
          "name": "stdout",
          "output_type": "stream",
          "text": [
            "Please enter an integer: six\n",
            "Looks like you did not enter an integer!\n",
            "Try again-Please enter an integer: 44\n",
            "Finally, I executed!\n"
          ]
        }
      ],
      "source": [
        "askint()"
      ]
    },
    {
      "cell_type": "markdown",
      "metadata": {
        "id": "jk13caOgcRHR"
      },
      "source": [
        "Hmmm...that only did one check. How can we continually keep checking? We can use a while loop!"
      ]
    },
    {
      "cell_type": "code",
      "execution_count": null,
      "metadata": {
        "id": "10_LYJ17cRHR"
      },
      "outputs": [],
      "source": [
        "def askint():\n",
        "    while True:\n",
        "        try:\n",
        "            val = int(input(\"Please enter an integer: \"))\n",
        "        except:\n",
        "            print(\"Looks like you did not enter an integer!\")\n",
        "            break\n",
        "        else:\n",
        "            print('Yep thats an integer!')\n",
        "            break\n",
        "        finally:\n",
        "            print(\"Finally, I executed!\")\n",
        "            print(val)"
      ]
    },
    {
      "cell_type": "code",
      "execution_count": null,
      "metadata": {
        "id": "bKLKHbfkcRHV",
        "outputId": "7d085706-71e1-4e9a-e985-45edee9147d8",
        "scrolled": true
      },
      "outputs": [
        {
          "name": "stdout",
          "output_type": "stream",
          "text": [
            "Please enter an integer: five\n",
            "Looks like you did not enter an integer!\n",
            "Finally, I executed!\n"
          ]
        },
        {
          "ename": "UnboundLocalError",
          "evalue": "local variable 'val' referenced before assignment",
          "output_type": "error",
          "traceback": [
            "\u001b[1;31m---------------------------------------------------------------------------\u001b[0m",
            "\u001b[1;31mUnboundLocalError\u001b[0m                         Traceback (most recent call last)",
            "\u001b[1;32m<ipython-input-15-cc291aa76c10>\u001b[0m in \u001b[0;36m<module>\u001b[1;34m\u001b[0m\n\u001b[1;32m----> 1\u001b[1;33m \u001b[0maskint\u001b[0m\u001b[1;33m(\u001b[0m\u001b[1;33m)\u001b[0m\u001b[1;33m\u001b[0m\u001b[1;33m\u001b[0m\u001b[0m\n\u001b[0m",
            "\u001b[1;32m<ipython-input-14-9682f0bcb1dc>\u001b[0m in \u001b[0;36maskint\u001b[1;34m()\u001b[0m\n\u001b[0;32m     11\u001b[0m         \u001b[1;32mfinally\u001b[0m\u001b[1;33m:\u001b[0m\u001b[1;33m\u001b[0m\u001b[1;33m\u001b[0m\u001b[0m\n\u001b[0;32m     12\u001b[0m             \u001b[0mprint\u001b[0m\u001b[1;33m(\u001b[0m\u001b[1;34m\"Finally, I executed!\"\u001b[0m\u001b[1;33m)\u001b[0m\u001b[1;33m\u001b[0m\u001b[1;33m\u001b[0m\u001b[0m\n\u001b[1;32m---> 13\u001b[1;33m             \u001b[0mprint\u001b[0m\u001b[1;33m(\u001b[0m\u001b[0mval\u001b[0m\u001b[1;33m)\u001b[0m\u001b[1;33m\u001b[0m\u001b[1;33m\u001b[0m\u001b[0m\n\u001b[0m",
            "\u001b[1;31mUnboundLocalError\u001b[0m: local variable 'val' referenced before assignment"
          ]
        }
      ],
      "source": [
        "askint()"
      ]
    },
    {
      "cell_type": "markdown",
      "metadata": {
        "collapsed": true,
        "id": "Tuhhy21ncRHa"
      },
      "source": [
        "### Raising an exception\n",
        "\n",
        "We can raise an excepton by using raise statement. Let us check with examples:-"
      ]
    },
    {
      "cell_type": "code",
      "execution_count": null,
      "metadata": {
        "id": "zAgFzTtocRHb",
        "outputId": "2e0c9893-2fca-49ea-8137-3515a742bed6"
      },
      "outputs": [
        {
          "name": "stdout",
          "output_type": "stream",
          "text": [
            "7\n",
            "Error is  2\n"
          ]
        }
      ],
      "source": [
        "def raise_exc(a):\n",
        "    if a < 5:\n",
        "        raise Exception(a) # If exception raised code below to this will not execute\n",
        "\n",
        "    return a\n",
        "\n",
        "try:\n",
        "    res1 = raise_exc(7)\n",
        "    print(res1)\n",
        "    res = raise_exc(2)\n",
        "    print(res)\n",
        "except Exception as e:\n",
        "    print(\"Error is \", e)"
      ]
    },
    {
      "cell_type": "markdown",
      "metadata": {
        "id": "cvUGju_ZcRHi"
      },
      "source": [
        "### User defined exception\n",
        "\n",
        "Developers can create their own exceptions by creating a new exception which will be derived from the Exception class.The newly created exception nae should be ended with “Error” similar to naming of the standard exceptions in python."
      ]
    },
    {
      "cell_type": "code",
      "execution_count": null,
      "metadata": {
        "id": "MOV0aLIucRHl",
        "outputId": "b512e14f-ae48-49c7-c766-c8494973775b"
      },
      "outputs": [
        {
          "name": "stdout",
          "output_type": "stream",
          "text": [
            "A New Exception occured:  5\n"
          ]
        }
      ],
      "source": [
        "''' Create user-defined exception\n",
        "    MyError is derived from super class Exception\n",
        "'''\n",
        "class NewError(Exception):\n",
        "\n",
        "    # Constructor or Initializer\n",
        "    def __init__(self, val):\n",
        "        self.val = val\n",
        "\n",
        "    # __str__ is to print() the value\n",
        "    def __str__(self):\n",
        "        return(repr(self.val))\n",
        "\n",
        "try:\n",
        "    raise(NewError(5))\n",
        "except NewError as e:\n",
        "    print('A New Exception occured: ',e.val)"
      ]
    },
    {
      "cell_type": "markdown",
      "metadata": {
        "id": "HMc7yAubcRHr"
      },
      "source": [
        "### Assertion\n",
        "\n",
        "Python's assert statement helps you find bugs more quickly and with less pain.\n",
        "\n",
        "Assertions are a systematic way to check that the internal state of a program is as the programmer expected, with the goal of catching bugs. In particular, they're good for catching false assumptions that were made while writing the code, or abuse of an interface by another programmer. In addition, they can act as in-line documentation to some extent, by making the programmer's assumptions obvious. (\"Explicit is better than implicit.\")\n",
        "\n",
        "For more,\n",
        ">**Refer:-** https://wiki.python.org/moin/UsingAssertionsEffectively"
      ]
    },
    {
      "cell_type": "code",
      "execution_count": null,
      "metadata": {
        "id": "IEHfnVa6cRHt",
        "outputId": "7e37361f-d681-4b09-f40e-1f65cf366680"
      },
      "outputs": [
        {
          "data": {
            "image/png": "[encoded data removed]",
            "text/plain": [
              "<IPython.core.display.Image object>"
            ]
          },
          "execution_count": 24,
          "metadata": {
            "tags": []
          },
          "output_type": "execute_result"
        }
      ],
      "source": [
        "from IPython.display import Image\n",
        "Image(filename='img/assertion.png')"
      ]
    },
    {
      "cell_type": "code",
      "execution_count": null,
      "metadata": {
        "id": "84TRQeOmcRHz",
        "outputId": "d66905e7-b85e-4ce3-98cc-d58abe22243e"
      },
      "outputs": [
        {
          "name": "stdout",
          "output_type": "stream",
          "text": [
            "Both variables are not the same\n"
          ]
        }
      ],
      "source": [
        "# Assert for comparing two variables\n",
        "try:\n",
        "    x = 1\n",
        "    y = 1\n",
        "    assert x != y, \"Both variables are not the same\"\n",
        "    print(x , y)\n",
        "\n",
        "# the error message we provided gets printed\n",
        "except AssertionError as msg:\n",
        "    print(msg)"
      ]
    },
    {
      "cell_type": "code",
      "execution_count": null,
      "metadata": {
        "id": "rVHqFaWGcRH2",
        "outputId": "0e10824d-23cb-4d3e-bb5c-ec09b2a882cd"
      },
      "outputs": [
        {
          "name": "stdout",
          "output_type": "stream",
          "text": [
            "The element is a\n",
            "Oo! invalid literal for int() with base 10: 'a' occurred.\n",
            "Next check for another element in a list.\n",
            "\n",
            "The element is 0\n",
            "Oo! division by zero occurred.\n",
            "Next check for another element in a list.\n",
            "\n",
            "The element is 2\n",
            "1.0\n"
          ]
        }
      ],
      "source": [
        "# Looping through list and print division of given element with the element itself if element is int else raise exception\n",
        "\n",
        "list1 = ['a', 0, 2] # For str 'a' raise error, for 0 raise zero division error\n",
        "\n",
        "for el in list1:\n",
        "    try:\n",
        "        print(\"The element is\", el)\n",
        "        res = int(el)/int(el)\n",
        "        break\n",
        "    except Exception as e:\n",
        "        print(\"Oo!\", e, \"occurred.\")\n",
        "        print(\"Next check for another element in a list.\")\n",
        "        print()\n",
        "print(res)"
      ]
    },
    {
      "cell_type": "code",
      "execution_count": null,
      "metadata": {
        "id": "qaBuiyfycRH6",
        "outputId": "9db5e4f9-9092-4518-834c-bd97ae547859"
      },
      "outputs": [
        {
          "name": "stdout",
          "output_type": "stream",
          "text": [
            "Enter a positive integer: -8\n",
            "That is not a positive number!\n"
          ]
        }
      ],
      "source": [
        "# try with if condition if not positive number it will raise an exception using raise\n",
        "try:\n",
        "    a = int(input(\"Enter a positive integer: \"))\n",
        "    if a <= 0:\n",
        "        raise ValueError(\"That is not a positive number!\")\n",
        "except ValueError as ve:\n",
        "    print(ve)"
      ]
    },
    {
      "cell_type": "code",
      "execution_count": null,
      "metadata": {
        "id": "zw6gP_XkcRH-",
        "outputId": "64d7a9be-a058-4d9c-faf2-2c9d50615868"
      },
      "outputs": [
        {
          "name": "stdout",
          "output_type": "stream",
          "text": [
            "Enter a number: 32\n",
            "Executing else block as try block hasn't raise an exception.\n"
          ]
        }
      ],
      "source": [
        "# Simple program for even number using try else and assert\n",
        "try:\n",
        "    num = int(input(\"Enter a number: \"))\n",
        "    assert num % 2 == 0\n",
        "except:\n",
        "    print(\"Not an even number!\")\n",
        "else:\n",
        "    print(\"Executing else block as try block hasn't raise an exception.\")"
      ]
    },
    {
      "cell_type": "code",
      "execution_count": null,
      "metadata": {
        "id": "qZm1fD2BcRIC"
      },
      "outputs": [],
      "source": [
        "# Defining function for raising exception\n",
        "def raise_exception(ex):\n",
        "    raise ex"
      ]
    },
    {
      "cell_type": "code",
      "execution_count": null,
      "metadata": {
        "id": "xKZmm7vAcRIF"
      },
      "outputs": [],
      "source": [
        "# Use of lambad function with exception raise if value < 10 will raise an exception\n",
        "y = lambda x: 2*x if x < 10 else raise_exception(Exception('Value is greater than 10'))"
      ]
    },
    {
      "cell_type": "code",
      "execution_count": null,
      "metadata": {
        "id": "IV2gMhQmcRIK",
        "outputId": "04b127c5-5719-4f83-da33-d82b0d0b3d3f"
      },
      "outputs": [
        {
          "data": {
            "text/plain": [
              "10"
            ]
          },
          "execution_count": 56,
          "metadata": {
            "tags": []
          },
          "output_type": "execute_result"
        }
      ],
      "source": [
        "y(5)"
      ]
    },
    {
      "cell_type": "code",
      "execution_count": null,
      "metadata": {
        "id": "9szBA8tWcRIU",
        "outputId": "438fb2ca-e701-474f-d7a1-b0e0d729da26"
      },
      "outputs": [
        {
          "ename": "Exception",
          "evalue": "Value is greater than 10",
          "output_type": "error",
          "traceback": [
            "\u001b[1;31m---------------------------------------------------------------------------\u001b[0m",
            "\u001b[1;31mException\u001b[0m                                 Traceback (most recent call last)",
            "\u001b[1;32m<ipython-input-57-69bf4e317ad3>\u001b[0m in \u001b[0;36m<module>\u001b[1;34m\u001b[0m\n\u001b[1;32m----> 1\u001b[1;33m \u001b[0my\u001b[0m\u001b[1;33m(\u001b[0m\u001b[1;36m20\u001b[0m\u001b[1;33m)\u001b[0m\u001b[1;33m\u001b[0m\u001b[1;33m\u001b[0m\u001b[0m\n\u001b[0m",
            "\u001b[1;32m<ipython-input-55-99236a7fd7fe>\u001b[0m in \u001b[0;36m<lambda>\u001b[1;34m(x)\u001b[0m\n\u001b[0;32m      1\u001b[0m \u001b[1;31m# Use of lambad function with exception raise if value < 10 will raise an exception\u001b[0m\u001b[1;33m\u001b[0m\u001b[1;33m\u001b[0m\u001b[1;33m\u001b[0m\u001b[0m\n\u001b[1;32m----> 2\u001b[1;33m \u001b[0my\u001b[0m \u001b[1;33m=\u001b[0m \u001b[1;32mlambda\u001b[0m \u001b[0mx\u001b[0m\u001b[1;33m:\u001b[0m \u001b[1;36m2\u001b[0m\u001b[1;33m*\u001b[0m\u001b[0mx\u001b[0m \u001b[1;32mif\u001b[0m \u001b[0mx\u001b[0m \u001b[1;33m<\u001b[0m \u001b[1;36m10\u001b[0m \u001b[1;32melse\u001b[0m \u001b[0mraise_exception\u001b[0m\u001b[1;33m(\u001b[0m\u001b[0mException\u001b[0m\u001b[1;33m(\u001b[0m\u001b[1;34m'Value is greater than 10'\u001b[0m\u001b[1;33m)\u001b[0m\u001b[1;33m)\u001b[0m\u001b[1;33m\u001b[0m\u001b[1;33m\u001b[0m\u001b[0m\n\u001b[0m",
            "\u001b[1;32m<ipython-input-54-a8f242b090b9>\u001b[0m in \u001b[0;36mraise_exception\u001b[1;34m(ex)\u001b[0m\n\u001b[0;32m      1\u001b[0m \u001b[1;31m# Defining function for raising exception\u001b[0m\u001b[1;33m\u001b[0m\u001b[1;33m\u001b[0m\u001b[1;33m\u001b[0m\u001b[0m\n\u001b[0;32m      2\u001b[0m \u001b[1;32mdef\u001b[0m \u001b[0mraise_exception\u001b[0m\u001b[1;33m(\u001b[0m\u001b[0mex\u001b[0m\u001b[1;33m)\u001b[0m\u001b[1;33m:\u001b[0m\u001b[1;33m\u001b[0m\u001b[1;33m\u001b[0m\u001b[0m\n\u001b[1;32m----> 3\u001b[1;33m     \u001b[1;32mraise\u001b[0m \u001b[0mex\u001b[0m\u001b[1;33m\u001b[0m\u001b[1;33m\u001b[0m\u001b[0m\n\u001b[0m",
            "\u001b[1;31mException\u001b[0m: Value is greater than 10"
          ]
        }
      ],
      "source": [
        "y(20)"
      ]
    },
    {
      "cell_type": "code",
      "execution_count": null,
      "metadata": {
        "id": "dWTm_uZdcRIb"
      },
      "outputs": [],
      "source": [
        "# defining function for finding sqrt and checking type of number and raise exception if not an int/float\n",
        "import math\n",
        "def find_sqrt(a):\n",
        "    if not isinstance(a,(int,float)):\n",
        "        raise TypeError(\"a must be numeric\")\n",
        "    elif a < 0:\n",
        "        raise TypeError(\"a should not be negative\")\n",
        "    else:\n",
        "        print(math.sqrt(a))"
      ]
    },
    {
      "cell_type": "code",
      "execution_count": null,
      "metadata": {
        "id": "NkXXBm-1cRIe",
        "outputId": "2d6ec993-c6d0-4a06-8e98-080319928ba4"
      },
      "outputs": [
        {
          "ename": "TypeError",
          "evalue": "a must be numeric",
          "output_type": "error",
          "traceback": [
            "\u001b[1;31m---------------------------------------------------------------------------\u001b[0m",
            "\u001b[1;31mTypeError\u001b[0m                                 Traceback (most recent call last)",
            "\u001b[1;32m<ipython-input-2-31a3948965a9>\u001b[0m in \u001b[0;36m<module>\u001b[1;34m\u001b[0m\n\u001b[1;32m----> 1\u001b[1;33m \u001b[0mfind_sqrt\u001b[0m\u001b[1;33m(\u001b[0m\u001b[1;34m\"scsc\"\u001b[0m\u001b[1;33m)\u001b[0m\u001b[1;33m\u001b[0m\u001b[1;33m\u001b[0m\u001b[0m\n\u001b[0m",
            "\u001b[1;32m<ipython-input-1-e201b0a49914>\u001b[0m in \u001b[0;36mfind_sqrt\u001b[1;34m(a)\u001b[0m\n\u001b[0;32m      3\u001b[0m \u001b[1;32mdef\u001b[0m \u001b[0mfind_sqrt\u001b[0m\u001b[1;33m(\u001b[0m\u001b[0ma\u001b[0m\u001b[1;33m)\u001b[0m\u001b[1;33m:\u001b[0m\u001b[1;33m\u001b[0m\u001b[1;33m\u001b[0m\u001b[0m\n\u001b[0;32m      4\u001b[0m     \u001b[1;32mif\u001b[0m \u001b[1;32mnot\u001b[0m \u001b[0misinstance\u001b[0m\u001b[1;33m(\u001b[0m\u001b[0ma\u001b[0m\u001b[1;33m,\u001b[0m\u001b[1;33m(\u001b[0m\u001b[0mint\u001b[0m\u001b[1;33m,\u001b[0m\u001b[0mfloat\u001b[0m\u001b[1;33m)\u001b[0m\u001b[1;33m)\u001b[0m\u001b[1;33m:\u001b[0m\u001b[1;33m\u001b[0m\u001b[1;33m\u001b[0m\u001b[0m\n\u001b[1;32m----> 5\u001b[1;33m         \u001b[1;32mraise\u001b[0m \u001b[0mTypeError\u001b[0m\u001b[1;33m(\u001b[0m\u001b[1;34m\"a must be numeric\"\u001b[0m\u001b[1;33m)\u001b[0m\u001b[1;33m\u001b[0m\u001b[1;33m\u001b[0m\u001b[0m\n\u001b[0m\u001b[0;32m      6\u001b[0m     \u001b[1;32melif\u001b[0m \u001b[0ma\u001b[0m \u001b[1;33m<\u001b[0m \u001b[1;36m0\u001b[0m\u001b[1;33m:\u001b[0m\u001b[1;33m\u001b[0m\u001b[1;33m\u001b[0m\u001b[0m\n\u001b[0;32m      7\u001b[0m         \u001b[1;32mraise\u001b[0m \u001b[0mTypeError\u001b[0m\u001b[1;33m(\u001b[0m\u001b[1;34m\"a should not be negative\"\u001b[0m\u001b[1;33m)\u001b[0m\u001b[1;33m\u001b[0m\u001b[1;33m\u001b[0m\u001b[0m\n",
            "\u001b[1;31mTypeError\u001b[0m: a must be numeric"
          ]
        }
      ],
      "source": [
        "find_sqrt(\"scsc\")"
      ]
    },
    {
      "cell_type": "code",
      "execution_count": null,
      "metadata": {
        "id": "AP-NGLPGcRIh",
        "outputId": "8485cfd0-183b-49a9-f262-bc91337ad0bc"
      },
      "outputs": [
        {
          "ename": "TypeError",
          "evalue": "a should not be negative",
          "output_type": "error",
          "traceback": [
            "\u001b[1;31m---------------------------------------------------------------------------\u001b[0m",
            "\u001b[1;31mTypeError\u001b[0m                                 Traceback (most recent call last)",
            "\u001b[1;32m<ipython-input-3-24946c882679>\u001b[0m in \u001b[0;36m<module>\u001b[1;34m\u001b[0m\n\u001b[1;32m----> 1\u001b[1;33m \u001b[0mfind_sqrt\u001b[0m\u001b[1;33m(\u001b[0m\u001b[1;33m-\u001b[0m\u001b[1;36m56\u001b[0m\u001b[1;33m)\u001b[0m\u001b[1;33m\u001b[0m\u001b[1;33m\u001b[0m\u001b[0m\n\u001b[0m",
            "\u001b[1;32m<ipython-input-1-e201b0a49914>\u001b[0m in \u001b[0;36mfind_sqrt\u001b[1;34m(a)\u001b[0m\n\u001b[0;32m      5\u001b[0m         \u001b[1;32mraise\u001b[0m \u001b[0mTypeError\u001b[0m\u001b[1;33m(\u001b[0m\u001b[1;34m\"a must be numeric\"\u001b[0m\u001b[1;33m)\u001b[0m\u001b[1;33m\u001b[0m\u001b[1;33m\u001b[0m\u001b[0m\n\u001b[0;32m      6\u001b[0m     \u001b[1;32melif\u001b[0m \u001b[0ma\u001b[0m \u001b[1;33m<\u001b[0m \u001b[1;36m0\u001b[0m\u001b[1;33m:\u001b[0m\u001b[1;33m\u001b[0m\u001b[1;33m\u001b[0m\u001b[0m\n\u001b[1;32m----> 7\u001b[1;33m         \u001b[1;32mraise\u001b[0m \u001b[0mTypeError\u001b[0m\u001b[1;33m(\u001b[0m\u001b[1;34m\"a should not be negative\"\u001b[0m\u001b[1;33m)\u001b[0m\u001b[1;33m\u001b[0m\u001b[1;33m\u001b[0m\u001b[0m\n\u001b[0m\u001b[0;32m      8\u001b[0m     \u001b[1;32melse\u001b[0m\u001b[1;33m:\u001b[0m\u001b[1;33m\u001b[0m\u001b[1;33m\u001b[0m\u001b[0m\n\u001b[0;32m      9\u001b[0m         \u001b[0mprint\u001b[0m\u001b[1;33m(\u001b[0m\u001b[0mmath\u001b[0m\u001b[1;33m.\u001b[0m\u001b[0msqrt\u001b[0m\u001b[1;33m(\u001b[0m\u001b[0ma\u001b[0m\u001b[1;33m)\u001b[0m\u001b[1;33m)\u001b[0m\u001b[1;33m\u001b[0m\u001b[1;33m\u001b[0m\u001b[0m\n",
            "\u001b[1;31mTypeError\u001b[0m: a should not be negative"
          ]
        }
      ],
      "source": [
        "find_sqrt(-56)"
      ]
    },
    {
      "cell_type": "code",
      "execution_count": null,
      "metadata": {
        "id": "UIqPoaLWcRIp",
        "outputId": "02ffb810-9881-43af-c6d9-69109ed4da93"
      },
      "outputs": [
        {
          "name": "stdout",
          "output_type": "stream",
          "text": [
            "2.449489742783178\n"
          ]
        }
      ],
      "source": [
        "find_sqrt(6)"
      ]
    },
    {
      "cell_type": "markdown",
      "metadata": {
        "id": "f6u4oH29AquU"
      },
      "source": [
        "### What Is An Exception ?"
      ]
    },
    {
      "cell_type": "code",
      "metadata": {
        "id": "tGUTWXjucRIu"
      },
      "source": [
        "Exception are errors that occur at runtime .\n",
        "\n",
        "\n",
        "\n",
        "In other words , if our program encounters an abnormal situation during it’s execution it raises an exception.\n",
        "\n",
        "\n",
        "For example,the statement\n",
        "\n",
        "        a=10/0\n",
        "\n",
        "will generate an exception because Python has no way to solve division by 0\n"
      ],
      "execution_count": null,
      "outputs": []
    },
    {
      "cell_type": "markdown",
      "metadata": {
        "id": "lx6r8P6pAquU"
      },
      "source": [
        "### What Python Does When An Exception Occurs ?"
      ]
    },
    {
      "cell_type": "markdown",
      "metadata": {
        "id": "r2tN6xEcAquV"
      },
      "source": [
        "Whenever an exception occurs , Python does 2 things :\n",
        "\n",
        "It immediately terminates the code\n",
        "\n",
        "It displays the error message related to the exception in a technical way\n",
        "\n",
        "Both the steps taken by Python cannot be considered user friendly because\n",
        "Even if a statement generates exception , still other parts of the program must get a chance to run\n",
        "\n",
        "The error message must be simpler for the user to understand\n"
      ]
    },
    {
      "cell_type": "markdown",
      "metadata": {
        "id": "PORHPE9DAquV"
      },
      "source": [
        "### A Sample Code"
      ]
    },
    {
      "cell_type": "code",
      "execution_count": null,
      "metadata": {
        "id": "7T87mkIkAquV",
        "outputId": "6e64d30b-9c5a-4f7d-b8e7-421d48857485"
      },
      "outputs": [
        {
          "name": "stdout",
          "output_type": "stream",
          "text": [
            "Enter first no:10\n",
            "Enter second no:a\n"
          ]
        },
        {
          "ename": "ValueError",
          "evalue": "invalid literal for int() with base 10: 'a'",
          "output_type": "error",
          "traceback": [
            "\u001b[1;31m---------------------------------------------------------------------------\u001b[0m",
            "\u001b[1;31mValueError\u001b[0m                                Traceback (most recent call last)",
            "\u001b[1;32m<ipython-input-10-8366b991657c>\u001b[0m in \u001b[0;36m<module>\u001b[1;34m\u001b[0m\n\u001b[0;32m      1\u001b[0m \u001b[0ma\u001b[0m\u001b[1;33m=\u001b[0m\u001b[0mint\u001b[0m\u001b[1;33m(\u001b[0m\u001b[0minput\u001b[0m\u001b[1;33m(\u001b[0m\u001b[1;34m\"Enter first no:\"\u001b[0m\u001b[1;33m)\u001b[0m\u001b[1;33m)\u001b[0m\u001b[1;33m\u001b[0m\u001b[1;33m\u001b[0m\u001b[0m\n\u001b[1;32m----> 2\u001b[1;33m \u001b[0mb\u001b[0m\u001b[1;33m=\u001b[0m\u001b[0mint\u001b[0m\u001b[1;33m(\u001b[0m\u001b[0minput\u001b[0m\u001b[1;33m(\u001b[0m\u001b[1;34m\"Enter second no:\"\u001b[0m\u001b[1;33m)\u001b[0m\u001b[1;33m)\u001b[0m\u001b[1;33m\u001b[0m\u001b[1;33m\u001b[0m\u001b[0m\n\u001b[0m\u001b[0;32m      3\u001b[0m \u001b[0mc\u001b[0m\u001b[1;33m=\u001b[0m\u001b[0ma\u001b[0m\u001b[1;33m/\u001b[0m\u001b[0mb\u001b[0m\u001b[1;33m\u001b[0m\u001b[1;33m\u001b[0m\u001b[0m\n\u001b[0;32m      4\u001b[0m \u001b[0mprint\u001b[0m\u001b[1;33m(\u001b[0m\u001b[1;34m\"Div is\"\u001b[0m\u001b[1;33m,\u001b[0m\u001b[0mc\u001b[0m\u001b[1;33m)\u001b[0m\u001b[1;33m\u001b[0m\u001b[1;33m\u001b[0m\u001b[0m\n\u001b[0;32m      5\u001b[0m \u001b[0md\u001b[0m\u001b[1;33m=\u001b[0m\u001b[0ma\u001b[0m\u001b[1;33m+\u001b[0m\u001b[0mb\u001b[0m\u001b[1;33m\u001b[0m\u001b[1;33m\u001b[0m\u001b[0m\n",
            "\u001b[1;31mValueError\u001b[0m: invalid literal for int() with base 10: 'a'"
          ]
        }
      ],
      "source": [
        "a=int(input(\"Enter first no:\"))\n",
        "b=int(input(\"Enter second no:\"))\n",
        "c=a/b\n",
        "print(\"Div is\",c)\n",
        "d=a+b\n",
        "print(\"Sum is\",d)"
      ]
    },
    {
      "cell_type": "markdown",
      "metadata": {
        "id": "3dVazNEoAquV"
      },
      "source": [
        "As we can observe , in the second run the code generated exception because Python does not know how to handle division by 0. Moreover it did not even calculated the sum of 10 and 0 which is possible\n"
      ]
    },
    {
      "cell_type": "code",
      "execution_count": null,
      "metadata": {
        "id": "BTA5Tj1vAquV"
      },
      "outputs": [],
      "source": [
        "a=int(input(\"Enter first no:\"))\n",
        "b=int(input(\"Enter second no:\"))\n",
        "c=a/b\n",
        "print(\"Div is\",c)\n",
        "d=a+b\n",
        "print(\"Sum is\",d)"
      ]
    },
    {
      "cell_type": "markdown",
      "metadata": {
        "id": "nzNlRPYXAquW"
      },
      "source": [
        "In this case since it is not possible for Python to covert “2a” into an integer , so it generated an exception . But the message it displays is too technical to understand\n"
      ]
    },
    {
      "cell_type": "markdown",
      "metadata": {
        "id": "pbwLc448AquW"
      },
      "source": [
        "### How To Handle\n",
        "Such Situations ?"
      ]
    },
    {
      "cell_type": "markdown",
      "metadata": {
        "id": "FFG8NX3BAquW"
      },
      "source": [
        "If we want our program to behave normally , even if an exception occurs , then we will have to apply     Exception Handling\n",
        "\n",
        "\n",
        "Exception handling is a mechanism which allows us to handle errors gracefully while the program is running instead of abruptly ending the program execution.\n",
        "\n"
      ]
    },
    {
      "cell_type": "markdown",
      "metadata": {
        "id": "VKHJIJzPAquW"
      },
      "source": [
        "Python provides 5 keywords to perform Exception Handling:\n",
        "\n",
        "try\n",
        "\n",
        "except\n",
        "\n",
        "else\n",
        "\n",
        "raise\n",
        "\n",
        "finally\n"
      ]
    },
    {
      "cell_type": "markdown",
      "metadata": {
        "id": "dV1nP3_tAquW"
      },
      "source": [
        "Following is the syntax of a Python try-except-else block.\n",
        "\n",
        "try:\n",
        "\n",
        "\tYou do your operations here;\n",
        "\t......................\n",
        "except ExceptionI:\n",
        "\n",
        "\tIf there is ExceptionI, then execute this block.\n",
        "    \n",
        "except ExceptionII:\n",
        "\n",
        "\tIf there is ExceptionII, then execute this block.\n",
        "\t......................\n",
        "else:\n",
        "\n",
        "\tIf there is no exception then execute this block.\n"
      ]
    },
    {
      "cell_type": "markdown",
      "metadata": {
        "id": "MHhsDOzPAquX"
      },
      "source": [
        "Remember !\n",
        "In place of Exception I and Exception II , we have to use the names of Exception classes in Python\n"
      ]
    },
    {
      "cell_type": "code",
      "execution_count": null,
      "metadata": {
        "id": "Gc1PvMzJAquX",
        "outputId": "fcb56a12-f2f9-45d1-f372-c692bfe2d523"
      },
      "outputs": [
        {
          "name": "stdout",
          "output_type": "stream",
          "text": [
            "Enter first no:10\n",
            "Enter second no:0\n",
            "division by zero\n",
            "Sum is 10\n"
          ]
        }
      ],
      "source": [
        "a=int(input(\"Enter first no:\"))\n",
        "b=int(input(\"Enter second no:\"))\n",
        "try:\n",
        "\tc=a/b\n",
        "\tprint(\"Div is\",c)\n",
        "except ZeroDivisionError as e:\n",
        "\tprint(e)\n",
        "d=a+b\n",
        "print(\"Sum is\",d)\n"
      ]
    },
    {
      "cell_type": "markdown",
      "metadata": {
        "id": "p19xJKs2AquX"
      },
      "source": [
        "![image.png](attachment:image.png)"
      ]
    },
    {
      "cell_type": "code",
      "execution_count": null,
      "metadata": {
        "id": "bWJfN2XoAquX",
        "outputId": "088fe71c-cb71-4793-e459-90f9e441e6ad"
      },
      "outputs": [
        {
          "ename": "SyntaxError",
          "evalue": "unmatched ')' (<ipython-input-13-2fd3a05b1c9d>, line 9)",
          "output_type": "error",
          "traceback": [
            "\u001b[1;36m  File \u001b[1;32m\"<ipython-input-13-2fd3a05b1c9d>\"\u001b[1;36m, line \u001b[1;32m9\u001b[0m\n\u001b[1;33m    print(\"Div is\",c))\u001b[0m\n\u001b[1;37m                     ^\u001b[0m\n\u001b[1;31mSyntaxError\u001b[0m\u001b[1;31m:\u001b[0m unmatched ')'\n"
          ]
        }
      ],
      "source": [
        "#Amongst all the exceptions mentioned in the previous slides, we cannot handle SyntaxError exception , because it is raised by Python even before the program starts execution\n",
        "\n",
        "#Example:\n",
        "\n",
        "a=int(input(\"Enter first no:\"))\n",
        "b=int(input(\"Enter second no:\"))\n",
        "try:\n",
        "\tc=a/b\n",
        "\tprint(\"Div is\",c))\n",
        "except SyntaxError:\n",
        "\tprint(\"Wrong Syntax\")\n",
        "d=a+b\n",
        "print(\"Sum is\",d)\n"
      ]
    },
    {
      "cell_type": "markdown",
      "metadata": {
        "id": "pgZFr87vAquX"
      },
      "source": [
        "A try statement may have more than one except clause for different exceptions.But at most one except clause will be executed\n"
      ]
    },
    {
      "cell_type": "markdown",
      "metadata": {
        "id": "SQLRLmNIAquY"
      },
      "source": [
        "Also , we must remember that if we are handling parent and child exception classes in except clause then the parent exception must appear after child exception , otherwise child except will never get a chance to run\n",
        "\n"
      ]
    },
    {
      "cell_type": "code",
      "execution_count": null,
      "metadata": {
        "id": "BDmNl14nAquY",
        "outputId": "3c1750e6-caa3-4782-abab-faf5d305b3aa"
      },
      "outputs": [
        {
          "name": "stdout",
          "output_type": "stream",
          "text": [
            "2.0\n",
            "20.085536923187668\n"
          ]
        }
      ],
      "source": [
        "import math\n",
        "try:\n",
        "\n",
        "\tx=10/5\n",
        "\tprint(x)\n",
        "\tans=math.exp(3)\n",
        "\tprint(ans)\n",
        "\n",
        "except ZeroDivisionError:\n",
        "\tprint(\"Division by 0 exception occurred!\")\n",
        "except ArithmeticError:\n",
        "\tprint(\"Numeric calculation failed!\")\n"
      ]
    },
    {
      "cell_type": "code",
      "execution_count": null,
      "metadata": {
        "id": "5qSioI6ZAquY",
        "outputId": "b638b606-7022-49ee-cd9b-acd193baa5eb"
      },
      "outputs": [
        {
          "name": "stdout",
          "output_type": "stream",
          "text": [
            "Division by 0 exception occurred!\n"
          ]
        }
      ],
      "source": [
        "import math\n",
        "try:\n",
        "\n",
        "\tx=10/0\n",
        "\tprint(x)\n",
        "\tans=math.exp(20000)\n",
        "\tprint(ans)\n",
        "\n",
        "except ZeroDivisionError:\n",
        "\tprint(\"Division by 0 exception occurred!\")\n",
        "except ArithmeticError:\n",
        "\tprint(\"Numeric calculation failed!\")\n"
      ]
    },
    {
      "cell_type": "code",
      "execution_count": null,
      "metadata": {
        "id": "FofAbN_sAquY",
        "outputId": "316fe370-6a42-441e-e5bc-899c24005f87"
      },
      "outputs": [
        {
          "ename": "OverflowError",
          "evalue": "math range error",
          "output_type": "error",
          "traceback": [
            "\u001b[1;31m---------------------------------------------------------------------------\u001b[0m",
            "\u001b[1;31mOverflowError\u001b[0m                             Traceback (most recent call last)",
            "\u001b[1;32m<ipython-input-16-34b2787f9eac>\u001b[0m in \u001b[0;36m<module>\u001b[1;34m\u001b[0m\n\u001b[0;32m      1\u001b[0m \u001b[1;32mimport\u001b[0m \u001b[0mmath\u001b[0m\u001b[1;33m\u001b[0m\u001b[1;33m\u001b[0m\u001b[0m\n\u001b[1;32m----> 2\u001b[1;33m \u001b[0mmath\u001b[0m\u001b[1;33m.\u001b[0m\u001b[0mexp\u001b[0m\u001b[1;33m(\u001b[0m\u001b[1;36m20000\u001b[0m\u001b[1;33m)\u001b[0m\u001b[1;33m\u001b[0m\u001b[1;33m\u001b[0m\u001b[0m\n\u001b[0m",
            "\u001b[1;31mOverflowError\u001b[0m: math range error"
          ]
        }
      ],
      "source": [
        "import math\n",
        "math.exp(20000)"
      ]
    },
    {
      "cell_type": "code",
      "execution_count": null,
      "metadata": {
        "id": "S070F349AquZ",
        "outputId": "c3c03ac1-b27b-4adb-d1f8-576b02afee40"
      },
      "outputs": [
        {
          "name": "stdout",
          "output_type": "stream",
          "text": [
            "2.0\n",
            "Numeric calculation failed!\n"
          ]
        }
      ],
      "source": [
        "import math\n",
        "try:\n",
        "\n",
        "    x=10/5\n",
        "    print(x)\n",
        "    ans=math.exp(20000)\n",
        "    print(ans)\n",
        "\n",
        "except ZeroDivisionError:\n",
        "\tprint(\"Division by 0 exception occurred!\")\n",
        "except ArithmeticError:\n",
        "\tprint(\"Numeric calculation failed!\")\n"
      ]
    },
    {
      "cell_type": "code",
      "execution_count": null,
      "metadata": {
        "id": "Oectu-RvAquZ",
        "outputId": "483c038d-f5d3-42b9-9608-7a55990d34f9"
      },
      "outputs": [
        {
          "name": "stdout",
          "output_type": "stream",
          "text": [
            "2.0\n",
            "Numeric calculation failed!\n"
          ]
        }
      ],
      "source": [
        "import math\n",
        "try:\n",
        "\n",
        "\tx=10/5\n",
        "\tprint(x)\n",
        "\tans=math.exp(20000)\n",
        "\tprint(ans)\n",
        "\n",
        "except ArithmeticError:\n",
        "\tprint(\"Numeric calculation failed!\")\n",
        "except ZeroDivisionError:\n",
        "\tprint(\"Division by 0 exception occurred!\")\n"
      ]
    },
    {
      "cell_type": "code",
      "execution_count": null,
      "metadata": {
        "id": "32ney_V7AquZ",
        "outputId": "6a3ff1de-29b1-4906-d870-c98d9cbb0ed7"
      },
      "outputs": [
        {
          "name": "stdout",
          "output_type": "stream",
          "text": [
            "Numeric calculation failed!\n"
          ]
        }
      ],
      "source": [
        "import math\n",
        "try:\n",
        "\n",
        "\tx=10/0\n",
        "\tprint(x)\n",
        "\tans=math.exp(20000)\n",
        "\tprint(ans)\n",
        "\n",
        "except ArithmeticError:\n",
        "\tprint(\"Numeric calculation failed!\")\n",
        "except ZeroDivisionError:\n",
        "\tprint(\"Division by 0 exception occurred!\")\n"
      ]
    },
    {
      "cell_type": "markdown",
      "metadata": {
        "id": "YXQmz3-QAquZ"
      },
      "source": [
        "### exercise"
      ]
    },
    {
      "cell_type": "markdown",
      "metadata": {
        "id": "MMvNndIxAqua"
      },
      "source": [
        "Write a program to ask the user to input 2 integers and calculate and print their division. Make sure your program behaves as follows:\n",
        "\n",
        "If the user enters a non integer value then ask him to enter only integers\n",
        "If denominator is 0 , then ask him to input non-zero denominator\n",
        "Repeat the process until correct input is given\n",
        "\n",
        "Only if the inputs are correct then display their division and terminate the code\n"
      ]
    },
    {
      "cell_type": "code",
      "execution_count": null,
      "metadata": {
        "id": "5C9VB7paAqua"
      },
      "outputs": [],
      "source": [
        "while(True):\n",
        "\ttry:\n",
        "\t\ta=int(input(\"Input first no:\"))\n",
        "\t\tb=int(input(\"Input second no:\"))\n",
        "\t\tc=a/b\n",
        "\t\tprint(\"Div is \",c)\n",
        "\t\tbreak;\n",
        "\texcept ValueError:\n",
        "\t\tprint(\"Please input integers only! Try again\")\n",
        "\texcept ZeroDivisionError:\n",
        "\t\tprint(\"Please input non-zero denominator\")\n"
      ]
    },
    {
      "cell_type": "markdown",
      "metadata": {
        "id": "GrM0sZnlAqua"
      },
      "source": [
        "If we want to write a single except clause to handle multiple exceptions , we can do this .\n",
        "\n",
        "\n",
        "\n",
        "For this we have to write names of all the exceptions within parenthesis separated with comma after the keyword except\n"
      ]
    },
    {
      "cell_type": "code",
      "execution_count": null,
      "metadata": {
        "id": "ZdvgCDCoAqua",
        "outputId": "2eb018b8-efcf-426c-9602-bbabf716f88d"
      },
      "outputs": [
        {
          "name": "stdout",
          "output_type": "stream",
          "text": [
            "Input first no:0\n",
            "Input second no:0\n",
            "Either input is incorrect or denominator is 0. Try again!\n",
            "Input first no:2\n",
            "Input second no:a\n",
            "Either input is incorrect or denominator is 0. Try again!\n",
            "Input first no:5\n",
            "Input second no:2\n",
            "Div is  2.5\n"
          ]
        }
      ],
      "source": [
        "while(True):\n",
        "\ttry:\n",
        "\t\ta=int(input(\"Input first no:\"))\n",
        "\t\tb=int(input(\"Input second no:\"))\n",
        "\t\tc=a/b\n",
        "\t\tprint(\"Div is \",c)\n",
        "\t\tbreak;\n",
        "\texcept (ValueError,ZeroDivisionError):\n",
        "\t\tprint(\"Either input is incorrect or denominator is 0. Try again!\")\n"
      ]
    },
    {
      "cell_type": "code",
      "execution_count": null,
      "metadata": {
        "id": "eObd_Y2PAqub"
      },
      "outputs": [],
      "source": [
        "We can write the keyword except without any exception class name also .\n",
        "\n",
        "\n",
        "In this case for every exception this except clause will run .\n",
        "\n",
        "\n",
        "The only problem will be that we will never know the type of exception that has occurred!\n"
      ]
    },
    {
      "cell_type": "code",
      "execution_count": null,
      "metadata": {
        "id": "9vya69nxAqub"
      },
      "outputs": [],
      "source": [
        "Following is the syntax of a Python handle all exception  block.\n",
        "\n",
        "try:\n",
        "\tYou do your operations here;\n",
        "\t......................\n",
        "except :\n",
        "\tFor every kind of exception this block will execute\n",
        "\n"
      ]
    },
    {
      "cell_type": "markdown",
      "metadata": {
        "id": "cVqAknGoAquc"
      },
      "source": [
        "### Notice , we have not provided any name for the exception\n"
      ]
    },
    {
      "cell_type": "code",
      "execution_count": null,
      "metadata": {
        "id": "_FF4ujPiAqud",
        "outputId": "e179c4a1-066c-4078-8f25-538b5d15b4f0"
      },
      "outputs": [
        {
          "name": "stdout",
          "output_type": "stream",
          "text": [
            "Input first no:10\n",
            "Input second no:0\n",
            "Some problem occurred. Try again!\n",
            "Input first no:12\n",
            "Input second no:9\n",
            "Div is  1.3333333333333333\n"
          ]
        }
      ],
      "source": [
        "while(True):\n",
        "    try:\n",
        "        a=int(input(\"Input first no:\"))\n",
        "        b=int(input(\"Input second no:\"))\n",
        "        c=a/b\n",
        "        print(\"Div is \",c)\n",
        "        break;\n",
        "    except:\n",
        "        print(\"Some problem occurred. Try again!\")\n"
      ]
    },
    {
      "cell_type": "code",
      "execution_count": null,
      "metadata": {
        "id": "jzvTbIx_Aqud"
      },
      "outputs": [],
      "source": [
        "Using Exception Object"
      ]
    },
    {
      "cell_type": "markdown",
      "metadata": {
        "id": "H7tmEq1qAqud"
      },
      "source": [
        "Now we know how to handle exception, in this section we will learn how to access exception object in exception handler code.\n",
        "\n",
        "\n",
        "To access the exception object created by Python we can use the keyword as and assign it to a variable.\n",
        "\n",
        "Finally using that variable we can get the details of the exception\n"
      ]
    },
    {
      "cell_type": "code",
      "execution_count": null,
      "metadata": {
        "id": "ZJHPwQYiAqud",
        "outputId": "c0ffe76c-312c-4c35-efb4-ab9a525a50e0"
      },
      "outputs": [
        {
          "ename": "TypeError",
          "evalue": "unsupported operand type(s) for /: 'int' and 'str'",
          "output_type": "error",
          "traceback": [
            "\u001b[1;31m---------------------------------------------------------------------------\u001b[0m",
            "\u001b[1;31mTypeError\u001b[0m                                 Traceback (most recent call last)",
            "\u001b[1;32m<ipython-input-2-310ad5b1b85b>\u001b[0m in \u001b[0;36m<module>\u001b[1;34m\u001b[0m\n\u001b[0;32m      1\u001b[0m \u001b[0ma\u001b[0m\u001b[1;33m=\u001b[0m\u001b[1;36m10\u001b[0m\u001b[1;33m\u001b[0m\u001b[1;33m\u001b[0m\u001b[0m\n\u001b[0;32m      2\u001b[0m \u001b[0mb\u001b[0m\u001b[1;33m=\u001b[0m\u001b[1;34m'c'\u001b[0m\u001b[1;33m\u001b[0m\u001b[1;33m\u001b[0m\u001b[0m\n\u001b[1;32m----> 3\u001b[1;33m \u001b[0md\u001b[0m\u001b[1;33m=\u001b[0m\u001b[0ma\u001b[0m\u001b[1;33m/\u001b[0m\u001b[0mb\u001b[0m\u001b[1;33m\u001b[0m\u001b[1;33m\u001b[0m\u001b[0m\n\u001b[0m\u001b[0;32m      4\u001b[0m \u001b[0mprint\u001b[0m\u001b[1;33m(\u001b[0m\u001b[0md\u001b[0m\u001b[1;33m)\u001b[0m\u001b[1;33m\u001b[0m\u001b[1;33m\u001b[0m\u001b[0m\n",
            "\u001b[1;31mTypeError\u001b[0m: unsupported operand type(s) for /: 'int' and 'str'"
          ]
        }
      ],
      "source": [
        "a=10\n",
        "b='c'\n",
        "d=a/b\n",
        "print(d)"
      ]
    },
    {
      "cell_type": "code",
      "execution_count": null,
      "metadata": {
        "id": "oVvtuLt4Aque",
        "outputId": "60424942-3f18-4b5d-8142-61bd4473d9d2"
      },
      "outputs": [
        {
          "name": "stdout",
          "output_type": "stream",
          "text": [
            "Input first no:10\n",
            "Input second no:a\n"
          ]
        },
        {
          "ename": "ValueError",
          "evalue": "invalid literal for int() with base 10: 'a'",
          "output_type": "error",
          "traceback": [
            "\u001b[1;31m---------------------------------------------------------------------------\u001b[0m",
            "\u001b[1;31mValueError\u001b[0m                                Traceback (most recent call last)",
            "\u001b[1;32m<ipython-input-3-ea06110b60f0>\u001b[0m in \u001b[0;36m<module>\u001b[1;34m\u001b[0m\n\u001b[0;32m      1\u001b[0m \u001b[0ma\u001b[0m\u001b[1;33m=\u001b[0m\u001b[0mint\u001b[0m\u001b[1;33m(\u001b[0m\u001b[0minput\u001b[0m\u001b[1;33m(\u001b[0m\u001b[1;34m\"Input first no:\"\u001b[0m\u001b[1;33m)\u001b[0m\u001b[1;33m)\u001b[0m\u001b[1;33m\u001b[0m\u001b[1;33m\u001b[0m\u001b[0m\n\u001b[1;32m----> 2\u001b[1;33m \u001b[0mb\u001b[0m\u001b[1;33m=\u001b[0m\u001b[0mint\u001b[0m\u001b[1;33m(\u001b[0m\u001b[0minput\u001b[0m\u001b[1;33m(\u001b[0m\u001b[1;34m\"Input second no:\"\u001b[0m\u001b[1;33m)\u001b[0m\u001b[1;33m)\u001b[0m\u001b[1;33m\u001b[0m\u001b[1;33m\u001b[0m\u001b[0m\n\u001b[0m\u001b[0;32m      3\u001b[0m \u001b[0mc\u001b[0m\u001b[1;33m=\u001b[0m\u001b[0ma\u001b[0m\u001b[1;33m/\u001b[0m\u001b[0mb\u001b[0m\u001b[1;33m\u001b[0m\u001b[1;33m\u001b[0m\u001b[0m\n\u001b[0;32m      4\u001b[0m \u001b[0mprint\u001b[0m\u001b[1;33m(\u001b[0m\u001b[0mc\u001b[0m\u001b[1;33m)\u001b[0m\u001b[1;33m\u001b[0m\u001b[1;33m\u001b[0m\u001b[0m\n",
            "\u001b[1;31mValueError\u001b[0m: invalid literal for int() with base 10: 'a'"
          ]
        }
      ],
      "source": [
        "a=int(input(\"Input first no:\"))\n",
        "b=int(input(\"Input second no:\"))\n",
        "c=a/b\n",
        "print(c)"
      ]
    },
    {
      "cell_type": "code",
      "execution_count": null,
      "metadata": {
        "id": "ObQpxvP8Aque",
        "outputId": "262551e1-1956-4f2a-f72a-792ade76aac4"
      },
      "outputs": [
        {
          "name": "stdout",
          "output_type": "stream",
          "text": [
            "Input first no:10\n",
            "Input second no:0\\\n",
            "invalid literal for int() with base 10: '0\\\\'\n"
          ]
        }
      ],
      "source": [
        "while(True):\n",
        "\ttry:\n",
        "\t\ta=int(input(\"Input first no:\"))\n",
        "\t\tb=int(input(\"Input second no:\"))\n",
        "\t\tc=a/b\n",
        "\t\tprint(\"Div is \",c)\n",
        "\t\tbreak;\n",
        "\texcept (ValueError,ZeroDivisionError) as e:\n",
        "\t\tprint(e)"
      ]
    },
    {
      "cell_type": "markdown",
      "metadata": {
        "id": "yXhdjoRVAque"
      },
      "source": [
        "Python allows us to get more details about the exception by calling the function exc_info().\n",
        "\n",
        "Following are it’s important points:\n",
        "\n",
        "It is available in the module sys\n",
        "\n",
        "It returns a tuple containing 3 items called type, value and traceback\n",
        "\n",
        "The variable type is the name of exception class, value is the instance of exception class and traceback contains the complete trace of the exception\n",
        "\n"
      ]
    },
    {
      "cell_type": "code",
      "execution_count": null,
      "metadata": {
        "id": "C5S87eWNAque",
        "outputId": "88a80d12-9096-47f7-b0c2-b6d86af87c65"
      },
      "outputs": [
        {
          "name": "stdout",
          "output_type": "stream",
          "text": [
            "Input first no:10\n",
            "Input second no:0\n",
            "Exception class: <class 'ZeroDivisionError'>\n",
            "Exception message: division by zero\n",
            "Line number: 6\n",
            "Input first no:10\n",
            "Input second no:5\n",
            "Div is  2.0\n"
          ]
        }
      ],
      "source": [
        "import sys\n",
        "while(True):\n",
        "\ttry:\n",
        "\t\ta=int(input(\"Input first no:\"))\n",
        "\t\tb=int(input(\"Input second no:\"))\n",
        "\t\tc=a/b\n",
        "\t\tprint(\"Div is \",c)\n",
        "\t\tbreak;\n",
        "\texcept:\n",
        "\t\ta,b,c=sys.exc_info()\n",
        "\t\tprint(\"Exception class:\",a)\n",
        "\t\tprint(\"Exception message:\",b)\n",
        "\t\tprint(\"Line number:\",c.tb_lineno)\n"
      ]
    },
    {
      "cell_type": "markdown",
      "metadata": {
        "id": "Kmfj2JVYAquf"
      },
      "source": [
        "Sometimes , we need to print the details of the exception exactly like Python does .\n",
        "\n",
        "\n",
        "We do this normally , when we are debugging our code.\n",
        "\n",
        "\n",
        "The class traceback which is available in the module traceback helps us do this\n"
      ]
    },
    {
      "cell_type": "code",
      "execution_count": null,
      "metadata": {
        "id": "NwwRqjqNAquf"
      },
      "outputs": [],
      "source": []
    },
    {
      "cell_type": "code",
      "execution_count": null,
      "metadata": {
        "id": "u_AHBw9EAquf"
      },
      "outputs": [],
      "source": [
        "This class contains a method called format_exc( )\n",
        "\n",
        "\n",
        "\n",
        "It is a class method of traceback class and returns complete details of the exception as a string.\n",
        "\n",
        "This string contains:\n",
        "The program name in which exception occurred\n",
        "Line number where exception occurred\n",
        "The code which generated the exception\n",
        "The name of the exception class\n",
        "The message related to the exception\n"
      ]
    },
    {
      "cell_type": "code",
      "execution_count": null,
      "metadata": {
        "id": "_XJ7yJG8Aquf"
      },
      "outputs": [],
      "source": [
        "import traceback"
      ]
    },
    {
      "cell_type": "code",
      "execution_count": null,
      "metadata": {
        "id": "PboadkjFAqug",
        "outputId": "1055e9c0-39eb-4459-d872-1cff78d7ca25"
      },
      "outputs": [
        {
          "name": "stdout",
          "output_type": "stream",
          "text": [
            "Input first no:10\n",
            "Input second no:0\n",
            "Traceback (most recent call last):\n",
            "  File \"<ipython-input-7-18a6bcc5f981>\", line 5, in <module>\n",
            "    c=a/b\n",
            "ZeroDivisionError: division by zero\n",
            "\n",
            "Input first no:10\n",
            "Input second no:6\n",
            "Div is  1.6666666666666667\n"
          ]
        }
      ],
      "source": [
        "while(True):\n",
        "\ttry:\n",
        "\t\ta=int(input(\"Input first no:\"))\n",
        "\t\tb=int(input(\"Input second no:\"))\n",
        "\t\tc=a/b\n",
        "\t\tprint(\"Div is \",c)\n",
        "\t\tbreak;\n",
        "\texcept:\n",
        "\t\tprint(traceback.format_exc())"
      ]
    },
    {
      "cell_type": "markdown",
      "metadata": {
        "id": "FiYuUyRHAqug"
      },
      "source": [
        "### Raising An Exception"
      ]
    },
    {
      "cell_type": "markdown",
      "metadata": {
        "id": "-7xv3FB7Aqug"
      },
      "source": [
        "We can force Python to generate an Exception using the keyword raise.\n",
        "\n",
        "\n",
        "This is normally done in those situations where we want Python to throw an exception in a particular condition of our choice\n",
        "\n",
        "\n",
        "Syntax:\n",
        "raise ExceptionClassName\n",
        "\n",
        "raise ExceptionClassName( message )\n"
      ]
    },
    {
      "cell_type": "markdown",
      "metadata": {
        "id": "7KRWX596Aqug"
      },
      "source": [
        "Write a program to ask the user to input 2 integers and calculate and print their division. Make sure your program behaves as follows:\n",
        "\n",
        "If the user enters a non integer value then ask him to enter only integers\n",
        "If denominator is 0 , then ask him to input non-zero denominator\n",
        "If any of the numbers is negative then display the message negative numbers not allowed\n",
        "Repeat the process until correct input is given\n",
        "\n",
        "Only if the inputs are correct then display their division and terminate the code\n"
      ]
    },
    {
      "cell_type": "code",
      "execution_count": null,
      "metadata": {
        "id": "n_OvUCqSAquh",
        "outputId": "e0dc828e-bd2b-46ec-ce97-3c1be0cdbeb7"
      },
      "outputs": [
        {
          "name": "stdout",
          "output_type": "stream",
          "text": [
            "please write a input:9\n",
            "please enter greater than 10\n",
            "please write a input:8\n",
            "please enter greater than 10\n",
            "please write a input:7\n",
            "please enter greater than 10\n",
            "please write a input:10\n",
            "please enter greater than 10\n",
            "please write a input:10\n",
            "please enter greater than 10\n",
            "please write a input:11\n"
          ]
        }
      ],
      "source": [
        "while(True):\n",
        "    a=int(input(\"please write a input:\"))\n",
        "    if a>10:\n",
        "        break\n",
        "    print(\"please enter greater than 10\")"
      ]
    },
    {
      "cell_type": "code",
      "execution_count": null,
      "metadata": {
        "id": "oTL21f6UAquh",
        "outputId": "62791861-700a-40fd-a22b-834e635dde49"
      },
      "outputs": [
        {
          "name": "stdout",
          "output_type": "stream",
          "text": [
            "Input first no:10\n",
            "Input second no:a\n",
            "Please input integers only! Try again\n",
            "Input first no:10\n",
            "Input second no:0\n",
            "Please input non-zero denominator\n",
            "Input first no:10\n",
            "Input second no:-4\n",
            "Negative numbers not allowed!Try again\n",
            "Input first no:10\n",
            "Input second no:5\n",
            "Div is  2.0\n"
          ]
        }
      ],
      "source": [
        "while(True):\n",
        "\ttry:\n",
        "\t\ta=int(input(\"Input first no:\"))\n",
        "\t\tb=int(input(\"Input second no:\"))\n",
        "\t\tif a<0 or b<0:\n",
        "\t\t\traise Exception(\"Negative numbers not allowed!Try again\")\n",
        "\t\tc=a/b\n",
        "\t\tprint(\"Div is \",c)\n",
        "\t\tbreak;\n",
        "\texcept ValueError:\n",
        "\t\tprint(\"Please input integers only! Try again\")\n",
        "\texcept ZeroDivisionError:\n",
        "\t\tprint(\"Please input non-zero denominator\")\n",
        "\texcept Exception as e:\n",
        "\t\tprint(e)\n"
      ]
    },
    {
      "cell_type": "markdown",
      "metadata": {
        "id": "Zjx7Al7HAquh"
      },
      "source": [
        "If we have a code which we want to run in all situations, then we should write it inside the  finally block.\n",
        "\n",
        "\n",
        "Python will always run the instructions coded in the finally block.\n",
        "\n",
        "\n",
        "It is the most common way of doing clean up tasks , like, closing a file or disconnecting with the DB or logging out the user etc\n"
      ]
    },
    {
      "cell_type": "code",
      "execution_count": null,
      "metadata": {
        "id": "81pbF5FmAquh"
      },
      "outputs": [],
      "source": [
        "The finally block has 2 syntaxes:\n",
        "Syntax 1\n",
        "try:\n",
        "\t# some exception generating code\n",
        "except :\n",
        "\t# exception handling code\n",
        "finally:\n",
        "\t# code to be always executed\n",
        "try:\n",
        "\t# some exception generating code\n",
        "finally:\n",
        "\t# code to be always executed\n"
      ]
    },
    {
      "cell_type": "code",
      "execution_count": null,
      "metadata": {
        "id": "YwI3j96kAquh"
      },
      "outputs": [],
      "source": [
        "while(True):\n",
        "\ttry:\n",
        "\t\ta=int(input(\"Input first no:\"))\n",
        "\t\tb=int(input(\"Input second no:\"))\n",
        "\t\tc=a/b\n",
        "\t\tprint(\"Div is \",c)\n",
        "\t\tbreak;\n",
        "\texcept ZeroDivisionError:\n",
        "\t\tprint(\"Denominator should not be zero\")\n",
        "\tfinally:\n",
        "\t\tprint(\"Thank you for using the app!\")\n"
      ]
    },
    {
      "cell_type": "markdown",
      "metadata": {
        "id": "DphS9m9kAqui"
      },
      "source": [
        "Python has many built-in exceptions which forces our program to output an error when something in it goes wrong.\n",
        "\n",
        "\n",
        "\n",
        "However, sometimes we may need to create our own exceptions which will be more suitable for our purpose.\n",
        "\n",
        "\n",
        "Such exceptions are called User Defined Exceptions\n"
      ]
    },
    {
      "cell_type": "markdown",
      "metadata": {
        "id": "iLCbbpN-Aqui"
      },
      "source": [
        "In Python, users can define such exceptions by creating a new class.\n",
        "\n",
        "\n",
        "\n",
        "This exception class has to be derived, either directly or indirectly, from Exception class.\n",
        "\n",
        "\n",
        "\n",
        "Most of the built-in exceptions are also derived form this class.\n"
      ]
    },
    {
      "cell_type": "code",
      "execution_count": null,
      "metadata": {
        "id": "SFXJefU_Aqui"
      },
      "outputs": [],
      "source": [
        "class NegativeNumberException(Exception):\n",
        "    def __init__(self):\n",
        "        print(\"please type a pos number\")\n"
      ]
    },
    {
      "cell_type": "code",
      "execution_count": null,
      "metadata": {
        "id": "m9DE_Cs8Aqui",
        "outputId": "6e64106e-c244-4c9e-b0ac-03c02ddd01e7"
      },
      "outputs": [
        {
          "name": "stdout",
          "output_type": "stream",
          "text": [
            "Input first no:10\n",
            "Input second no:-1\n",
            "please type a pos number\n",
            "\n"
          ]
        }
      ],
      "source": [
        "while(True):\n",
        "\ttry:\n",
        "\t\ta=int(input(\"Input first no:\"))\n",
        "\t\tb=int(input(\"Input second no:\"))\n",
        "\t\tif a<0 or b<0:\n",
        "\t\t\traise NegativeNumberException()\n",
        "\t\tc=a/b\n",
        "\t\tprint(\"Div is \",c)\n",
        "\t\tbreak;\n",
        "\texcept ValueError:\n",
        "\t\tprint(\"Please input integers only! Try again\")\n",
        "\texcept ZeroDivisionError:\n",
        "\t\tprint(\"Please input non-zero denominator\")\n",
        "\texcept NegativeNumberException as e:\n",
        "\t\tprint(e)\n"
      ]
    },
    {
      "cell_type": "code",
      "execution_count": null,
      "metadata": {
        "id": "5oBO5CZ3Aqui",
        "outputId": "95555c3d-97bf-43e6-f68c-7f5598f24b9e"
      },
      "outputs": [
        {
          "ename": "OverflowError",
          "evalue": "math range error",
          "output_type": "error",
          "traceback": [
            "\u001b[1;31m---------------------------------------------------------------------------\u001b[0m",
            "\u001b[1;31mOverflowError\u001b[0m                             Traceback (most recent call last)",
            "\u001b[1;32m<ipython-input-8-660e2d42fc5d>\u001b[0m in \u001b[0;36m<module>\u001b[1;34m\u001b[0m\n\u001b[0;32m      1\u001b[0m \u001b[1;32mimport\u001b[0m \u001b[0mmath\u001b[0m\u001b[1;33m\u001b[0m\u001b[1;33m\u001b[0m\u001b[0m\n\u001b[1;32m----> 2\u001b[1;33m \u001b[0mans\u001b[0m\u001b[1;33m=\u001b[0m\u001b[0mmath\u001b[0m\u001b[1;33m.\u001b[0m\u001b[0mexp\u001b[0m\u001b[1;33m(\u001b[0m\u001b[1;36m20000\u001b[0m\u001b[1;33m)\u001b[0m\u001b[1;33m\u001b[0m\u001b[1;33m\u001b[0m\u001b[0m\n\u001b[0m",
            "\u001b[1;31mOverflowError\u001b[0m: math range error"
          ]
        }
      ],
      "source": [
        "import math\n",
        "ans=math.exp(20000)"
      ]
    },
    {
      "cell_type": "code",
      "execution_count": null,
      "metadata": {
        "id": "fsjynevQAquj",
        "outputId": "3261de62-eefc-4f45-80c0-25b09fa4e1a2"
      },
      "outputs": [
        {
          "data": {
            "text/plain": [
              "7.38905609893065"
            ]
          },
          "execution_count": 7,
          "metadata": {},
          "output_type": "execute_result"
        }
      ],
      "source": [
        "ans"
      ]
    },
    {
      "cell_type": "code",
      "execution_count": null,
      "metadata": {
        "id": "xMTO0s3aAquj"
      },
      "outputs": [],
      "source": []
    }
  ],
  "metadata": {
    "colab": {
      "provenance": [],
      "toc_visible": true
    },
    "kernelspec": {
      "display_name": "Python 3 (ipykernel)",
      "language": "python",
      "name": "python3"
    },
    "language_info": {
      "codemirror_mode": {
        "name": "ipython",
        "version": 3
      },
      "file_extension": ".py",
      "mimetype": "text/x-python",
      "name": "python",
      "nbconvert_exporter": "python",
      "pygments_lexer": "ipython3",
      "version": "3.9.7"
    }
  },
  "nbformat": 4,
  "nbformat_minor": 0
}